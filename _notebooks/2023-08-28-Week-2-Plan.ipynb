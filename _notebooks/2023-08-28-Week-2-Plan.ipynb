{
 "cells": [
  {
   "cell_type": "markdown",
   "metadata": {},
   "source": [
    "---\n",
    "comments: false\n",
    "layout: post\n",
    "title: Week 2 Plan\n",
    "description: This is an overview of what I accomplished throughout week 2\n",
    "type: plans\n",
    "courses: { compsci: {week: 2} }\n",
    "categories: [C4.1]\n",
    "---"
   ]
  },
  {
   "cell_type": "markdown",
   "metadata": {},
   "source": [
    "# Weekly Plan\n",
    "\n",
    "**Monday:** Find new more creative templates and learn more about python\n",
    "\n",
    "**Tuesday:** Polish all of my notebooks and figure out how posts work\n",
    "\n",
    "**Wednesday:** Figure out how to work the grid and add all my blogs and posts to it\n",
    "\n",
    "**Thurday:** Adding new things to my blog such as games and hacks\n",
    "\n",
    "**Friday:** Live review and live review preparation"
   ]
  }
 ],
 "metadata": {
  "language_info": {
   "name": "python"
  },
  "orig_nbformat": 4
 },
 "nbformat": 4,
 "nbformat_minor": 2
}
