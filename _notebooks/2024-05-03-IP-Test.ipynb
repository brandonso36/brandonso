{
 "cells": [
  {
   "cell_type": "markdown",
   "metadata": {},
   "source": [
    "---\n",
    "comments: true\n",
    "layout: post\n",
    "title: IP Test Review\n",
    "description: IP Test Missed Questions\n",
    "type: tangibles\n",
    "courses: { compsci: {week: 31} }\n",
    "---"
   ]
  },
  {
   "cell_type": "markdown",
   "metadata": {},
   "source": [
    "# Quiz Score:"
   ]
  },
  {
   "cell_type": "markdown",
   "metadata": {},
   "source": [
    "![iptest.png](https://files.catbox.moe/e9ucpu.png)\n",
    "\n",
    "![image.png](https://files.catbox.moe/rkalsh.png)"
   ]
  },
  {
   "cell_type": "markdown",
   "metadata": {},
   "source": [
    "# Missed Questions\n",
    "\n",
    "**Question 3**\n",
    "\n",
    "Question: Which of the following best explains how data is typically assembled in packets for transmission over the Internet?\n",
    "\n",
    "My Answer: Each packet contains an encrypted version of the data to be transmitted, along with metadata containing the key needed to decrypt the data.\n",
    "\n",
    "Correct Answer: Each packet contains data to be transmitted, along with metadata containing information used for routing the data.\n",
    "\n",
    "Reflection: I was confused about the concept of packets and how they are assembled. I thought that packets were encrypted, but they are not. They are just data that is sent over the internet.\n"
   ]
  }
 ],
 "metadata": {
  "language_info": {
   "name": "python"
  }
 },
 "nbformat": 4,
 "nbformat_minor": 2
}
