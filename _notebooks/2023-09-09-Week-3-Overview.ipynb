{
 "cells": [
  {
   "cell_type": "markdown",
   "metadata": {},
   "source": [
    "---\n",
    "comments: false\n",
    "layout: post\n",
    "title: Week 3 Overview\n",
    "description: This is an overview of what I accomplished throughout week 3\n",
    "type: tangibles\n",
    "courses: { compsci: {week: 3} }\n",
    "categories: [C4.1]\n",
    "---"
   ]
  },
  {
   "cell_type": "markdown",
   "metadata": {},
   "source": [
    "# Week 3 Overview\n",
    "\n",
    "**Accomplishments**\n",
    "\n",
    "- Created a guess the number game using JS\n",
    "\n",
    "- Made a simple calculator also using JS\n",
    "\n",
    "- Constructed a quiz about Ninaad in Python\n",
    "\n",
    "- Sorted and organized the time box"
   ]
  },
  {
   "cell_type": "markdown",
   "metadata": {},
   "source": [
    "**Summary**\n",
    "\n",
    "Throughout the week, I learned basic code in JS and Python and how to better organize my blog in markdown. Addtionally, I prepared for the presentation and practiced presenting."
   ]
  }
 ],
 "metadata": {
  "language_info": {
   "name": "python"
  },
  "orig_nbformat": 4
 },
 "nbformat": 4,
 "nbformat_minor": 2
}
