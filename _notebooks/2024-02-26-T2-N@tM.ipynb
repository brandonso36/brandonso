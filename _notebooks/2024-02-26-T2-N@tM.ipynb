{
 "cells": [
  {
   "cell_type": "markdown",
   "metadata": {},
   "source": [
    "---\n",
    "toc: false\n",
    "comments: true\n",
    "layout: post\n",
    "title: Night at the Museum Review\n",
    "description: N@tM Review\n",
    "type: tangibles\n",
    "courses: { compsci: {week: 23} }\n",
    "categories: [C4.1]\n",
    "---"
   ]
  },
  {
   "cell_type": "markdown",
   "metadata": {},
   "source": [
    "# Reflection:\n",
    "\n",
    "**Glows**\n",
    "\n",
    "Our presentation was pretty cpativating and seemed to retain the attention of our audience for a while. Parents liked the slot machine particularly and its interactiveness. The balance system was also a big hit since it was a way to track how much you win without losing real money.\n",
    "\n",
    "**Add-ons**\n",
    "\n",
    "We are going to add a better UI on the login page and the signup page and implement more animations throughout our games.\n",
    "\n",
    "**Grows**\n",
    "\n",
    "Some of our games such as the dice game or the racing game were not as interactive or as well desgined as others. The user balance system was a little buggy at times.\n",
    "\n",
    "![IMG_4171.JPG](https://files.catbox.moe/o9vza3.JPG)"
   ]
  },
  {
   "cell_type": "markdown",
   "metadata": {},
   "source": [
    "# Blog on Event\n",
    "\n",
    "**Something you saw in CompSci that impressed**\n",
    "\n",
    "In Compsci I saw a very cool game similar to that of a pokemon game. It was structured in an open world scenerio, where winning battles would earn you points that you could use to level up. The way to win battles is to answer coding questions which was a very interactive and educational way of formatting the battles.\n",
    "\n",
    "![IMG_4171.JPG](https://files.catbox.moe/2jcqbc.jpg)\n",
    "\n",
    "**Something you saw outside of CompSci that you liked**\n",
    "\n",
    "While I was walking throughout the exhibits at Night at the Museum, I went into the photography room and was impressed by the quality and depth of some of the photos featured. "
   ]
  }
 ],
 "metadata": {
  "language_info": {
   "name": "python"
  }
 },
 "nbformat": 4,
 "nbformat_minor": 2
}
