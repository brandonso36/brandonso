{
 "cells": [
  {
   "cell_type": "markdown",
   "metadata": {},
   "source": [
    "---\n",
    "comments: false\n",
    "layout: post\n",
    "title: Bash Scripts\n",
    "description: Overview of Bash scripts\n",
    "type: hacks\n",
    "courses: { compsci: {week: 2} }\n",
    "categories: [C4.1]\n",
    "---"
   ]
  },
  {
   "cell_type": "markdown",
   "metadata": {},
   "source": [
    "# Bash Scripts\n",
    "\n",
    "**This is a brief description of simple bash scripts**\n",
    "\n",
    "- \"#!/bin/bash\" specifies that we are using bash\n",
    "\n",
    "- \"echo\" displays the text when the script is run\n",
    "\n",
    "- \"read\" is used to get input from the user\n",
    "\n",
    "- \"myvar\" is used to define a variable\n",
    "\n",
    "- \"if\" and \"else\" are used to create conditional statements"
   ]
  },
  {
   "cell_type": "markdown",
   "metadata": {},
   "source": [
    "# "
   ]
  }
 ],
 "metadata": {
  "kernelspec": {
   "display_name": "Python 3",
   "language": "python",
   "name": "python3"
  },
  "language_info": {
   "codemirror_mode": {
    "name": "ipython",
    "version": 3
   },
   "file_extension": ".py",
   "mimetype": "text/x-python",
   "name": "python",
   "nbconvert_exporter": "python",
   "pygments_lexer": "ipython3",
   "version": "3.10.12"
  },
  "orig_nbformat": 4
 },
 "nbformat": 4,
 "nbformat_minor": 2
}
