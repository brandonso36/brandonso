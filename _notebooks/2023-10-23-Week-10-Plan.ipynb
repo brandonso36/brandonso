{
 "cells": [
  {
   "cell_type": "markdown",
   "metadata": {},
   "source": [
    "---\n",
    "comments: false\n",
    "layout: post\n",
    "title: Week 10 Plan\n",
    "description: This is an overview of what I hope to accomplish throughout week 10\n",
    "type: plans\n",
    "courses: { compsci: {week: 10} }\n",
    "categories: [C4.1]\n",
    "---"
   ]
  },
  {
   "cell_type": "markdown",
   "metadata": {},
   "source": [
    "# Goals \n",
    "\n",
    "- Get the backend to store data (through POST requests) and retrieve data (through GET requests)\n",
    "\n",
    "- Continue working on linking the backend and frontend repositories\n",
    "\n",
    "- Prepare for the individual and team showcases this week\n",
    "\n",
    "- Grade homeworks that were submitted for our student teaching\n"
   ]
  },
  {
   "cell_type": "markdown",
   "metadata": {},
   "source": [
    "# Issues\n",
    "\n",
    "- The url for my website http://127.0.0.1:8987/api/chats wasn't working but I realized the port number wasn't specified (8987) so I added it and it worked\n",
    "\n",
    "- I got the issue that \"message\": \"The method is not allowed for the requested URL.\" when i opened the url http://127.0.0.1:8987/api/chats/create so I added a get method"
   ]
  }
 ],
 "metadata": {
  "language_info": {
   "name": "python"
  }
 },
 "nbformat": 4,
 "nbformat_minor": 2
}
