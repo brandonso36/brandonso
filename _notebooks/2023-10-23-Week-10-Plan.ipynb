{
 "cells": [
  {
   "cell_type": "markdown",
   "metadata": {},
   "source": [
    "---\n",
    "comments: false\n",
    "layout: post\n",
    "title: Week 10 Plan\n",
    "description: This is an overview of what I hope to accomplish throughout week 10\n",
    "type: plans\n",
    "courses: { compsci: {week: 10} }\n",
    "categories: [C4.1]\n",
    "---"
   ]
  },
  {
   "cell_type": "markdown",
   "metadata": {},
   "source": [
    "# Goals \n",
    "\n",
    "- Complete the backend (fully) for our passion project\n",
    "\n",
    "- Get the backend to store data (through POST requests) and retrieve data (through GET requests)\n",
    "\n",
    "- Work on our team passion project by linking the backend and frontend repositories\n",
    "\n",
    "- Complete the homework hacks and popcorn hacks for the student teachings this week\n"
   ]
  }
 ],
 "metadata": {
  "language_info": {
   "name": "python"
  }
 },
 "nbformat": 4,
 "nbformat_minor": 2
}
