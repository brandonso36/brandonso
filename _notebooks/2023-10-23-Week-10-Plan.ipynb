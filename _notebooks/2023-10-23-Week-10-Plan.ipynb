{
 "cells": [
  {
   "cell_type": "markdown",
   "metadata": {},
   "source": [
    "---\n",
    "comments: false\n",
    "layout: post\n",
    "title: Week 10 Plan\n",
    "description: This is an overview of what I hope to accomplish throughout week 10\n",
    "type: plans\n",
    "courses: { compsci: {week: 10} }\n",
    "categories: [C4.1]\n",
    "---"
   ]
  },
  {
   "cell_type": "markdown",
   "metadata": {},
   "source": [
    "# Goals \n",
    "\n",
    "- Get the backend to store data (through POST requests) and retrieve data (through GET requests)\n",
    "\n",
    "- Continue working on linking the backend and frontend repositories\n",
    "\n",
    "- Prepare for the individual and team showcases this week\n",
    "\n",
    "- Grade homeworks that were submitted for our student teaching\n"
   ]
  },
  {
   "cell_type": "markdown",
   "metadata": {},
   "source": [
    "# Checklist\n",
    "\n",
    "\n",
    "- Get the backend to store data (through POST requests) and retrieve data (through GET requests)\n",
    "\n",
    "    - In Progress\n",
    "\n",
    "- Continue working on linking the backend and frontend repositories\n",
    "\n",
    "    - In Progress\n",
    "\n",
    "- Prepare for the individual and team showcases this week\n",
    "\n",
    "    - Completed\n",
    "\n",
    "- Grade homeworks that were submitted for our student teaching\n",
    "\n",
    "    - Completed"
   ]
  }
 ],
 "metadata": {
  "language_info": {
   "name": "python"
  }
 },
 "nbformat": 4,
 "nbformat_minor": 2
}
