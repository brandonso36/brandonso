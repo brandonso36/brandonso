{
 "cells": [
  {
   "cell_type": "markdown",
   "metadata": {},
   "source": [
    "---\n",
    "comments: false\n",
    "layout: post\n",
    "title: Week 4 Overview\n",
    "description: This is an overview of what I accomplished throughout week 4\n",
    "type: tangibles\n",
    "courses: { compsci: {week: 4} }\n",
    "categories: [C4.1]\n",
    "---"
   ]
  },
  {
   "cell_type": "markdown",
   "metadata": {},
   "source": [
    "# Week 4 Overview\n",
    "\n",
    "**Accomplishments**\n",
    "\n",
    "- Created a working python flask server \n",
    "\n",
    "- Created a team manifesto for our group\n",
    "\n",
    "- Assigned roles for our team to divide our work\n"
   ]
  },
  {
   "cell_type": "markdown",
   "metadata": {},
   "source": [
    "**Issues and Fixes**\n",
    "\n",
    "- The python flask wasn't working when I tried running it. I fixed this by pip installing flask and flask_cors which solved the issue\n",
    "\n"
   ]
  }
 ],
 "metadata": {
  "language_info": {
   "name": "python"
  },
  "orig_nbformat": 4
 },
 "nbformat": 4,
 "nbformat_minor": 2
}
