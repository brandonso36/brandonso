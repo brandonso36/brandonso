{
 "cells": [
  {
   "cell_type": "markdown",
   "metadata": {},
   "source": [
    "---\n",
    "comments: false\n",
    "layout: post\n",
    "title: Trismester Overview\n",
    "description: Overview of what I learned in trimester 1\n",
    "type: tangibles\n",
    "courses: { compsci: {week: 11} }\n",
    "categories: [C4.1]\n",
    "---"
   ]
  },
  {
   "cell_type": "markdown",
   "metadata": {},
   "source": [
    "# Overview of Trimester 1\n",
    "\n",
    "## What I learned\n",
    "\n",
    "- I learned how to use the terminal and the commands\n",
    "\n",
    "- I learned how to use github and how to use it to make a website\n",
    "\n",
    "- I learned about local hosts\n",
    "\n",
    "- I learned various coding languages such as python, java, and html\n",
    "\n",
    "- I learned about flask and its website creating capabilities\n",
    "\n",
    "- I learned how apis are structured and how to make them\n",
    "\n",
    "- I learned about AWS and deployment of websites\n",
    "\n",
    "- I learned about data storage\n",
    "\n",
    "- Learned about all the python discussed in the student teachings"
   ]
  },
  {
   "cell_type": "markdown",
   "metadata": {},
   "source": [
    "**What I Hope to Learn About in Trimester 2**\n",
    "\n",
    "- I hope to become more proficient in javascript since we've been focused so much on python\n",
    "\n",
    "- I hope to learn more about frontend of websites \n",
    "\n",
    "- I hope to learn how to apply what I've learned to make projects such as games\n",
    "\n",
    "- I hope to learn more about AWS and its functions"
   ]
  }
 ],
 "metadata": {
  "language_info": {
   "name": "python"
  }
 },
 "nbformat": 4,
 "nbformat_minor": 2
}
