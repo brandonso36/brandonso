{
 "cells": [
  {
   "cell_type": "markdown",
   "metadata": {},
   "source": [
    "---\n",
    "title: Basics of Javascript\n",
    "description: A Tech Talk on how to use javascript\n",
    "permalink: /basics/javascript\n",
    "courses: { compsci: { week: 5 } }\n",
    "categories: [C4.1]\n",
    "comments: true\n",
    "type: ccc\n",
    "hide: True\n",
    "---"
   ]
  },
  {
   "cell_type": "raw",
   "metadata": {},
   "source": [
    "{% include nav_basics.html %}"
   ]
  },
  {
   "cell_type": "markdown",
   "metadata": {},
   "source": [
    "# Hacks\n",
    "- Write a JavaScript program that compares two variables, a and b. Log \"a is greater\" if a is greater than b, \"b is greater\" if b is greater than a, and \"both are equal\" if a and b are equal. Make sure to use if statements and console.log"
   ]
  },
  {
   "cell_type": "code",
   "execution_count": 3,
   "metadata": {
    "vscode": {
     "languageId": "javascript"
    }
   },
   "outputs": [
    {
     "data": {
      "application/javascript": "\nconst a = 4;\nconst b = 4;\n\nif (a > b) {\n    console.log(\"a is greater\");\n\n} else if (b > a) {\n    console.log(\"b is greater\");\n\n} else {\n    console.log(\"both are equal\");\n}\n",
      "text/plain": [
       "<IPython.core.display.Javascript object>"
      ]
     },
     "metadata": {},
     "output_type": "display_data"
    }
   ],
   "source": [
    "\n",
    "%%js\n",
    "\n",
    "const a = 2;\n",
    "const b = 4;\n",
    "\n",
    "if (a > b) {\n",
    "    console.log(\"a is greater\");\n",
    "\n",
    "} else if (b > a) {\n",
    "    console.log(\"b is greater\");\n",
    "\n",
    "} else {\n",
    "    console.log(\"both are equal\");\n",
    "}\n"
   ]
  }
 ],
 "metadata": {
  "kernelspec": {
   "display_name": "Python 3",
   "language": "python",
   "name": "python3"
  },
  "language_info": {
   "codemirror_mode": {
    "name": "ipython",
    "version": 3
   },
   "file_extension": ".py",
   "mimetype": "text/x-python",
   "name": "python",
   "nbconvert_exporter": "python",
   "pygments_lexer": "ipython3",
   "version": "3.10.12"
  },
  "orig_nbformat": 4
 },
 "nbformat": 4,
 "nbformat_minor": 2
}
