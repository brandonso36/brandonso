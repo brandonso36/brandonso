{
 "cells": [
  {
   "cell_type": "markdown",
   "metadata": {},
   "source": [
    "---\n",
    "title: Using Javascript with HTML DOM\n",
    "description: A Tech Talk on how javascript can interact with HTML DOM\n",
    "permalink: /basics/dom\n",
    "courses: { compsci: { week: 5 } }\n",
    "categories: [C4.1]\n",
    "type: ccc\n",
    "hide: True\n",
    "comments: true\n",
    "---"
   ]
  },
  {
   "cell_type": "raw",
   "metadata": {},
   "source": [
    "{% include nav_basics.html %}"
   ]
  },
  {
   "cell_type": "markdown",
   "metadata": {},
   "source": [
    "# Hacks\n",
    "- Copy your HTML code from the HTML hacks. Write a Javascript snippet to switch the links of the two a tags when a button is pressed. Once they are switched, change the inner HTML of the top p tag to the word \"switched!\""
   ]
  },
  {
   "cell_type": "code",
   "execution_count": 22,
   "metadata": {
    "vscode": {
     "languageId": "html"
    }
   },
   "outputs": [
    {
     "data": {
      "text/html": [
       "\n",
       "<div>\n",
       "    <p style=\"color:Tomato;\" id=\"pTag1\">This is how you make text in a paragraph form</p>\n",
       "    <button style=\"color:Chartreuse;\" onclick=\"switchlinks()\">Switch</button>\n",
       "</div>\n",
       "<br>\n",
       "<div>\n",
       "    <a style=\"color:DodgerBlue;\" id=\"aTag1\" href=\"https://brandonso36.github.io/brandonso/\">Link to my Github Blog</a>\n",
       "    <br>\n",
       "    <a style=\"color:DodgerBlue;\" id=\"aTag2\" href=\"https://nighthawkcoders.github.io/teacher/basics/html\">Where I learned this</a>\n",
       "    <p style=\"color:Tomato;\">This is the end of this html stuff</p>\n",
       "</div>\n",
       "\n",
       "\n",
       "<script>\n",
       "  function switchlinks() {\n",
       "    var aTag1 = document.getElementById(\"aTag1\")\n",
       "    var aTag2 = document.getElementById(\"aTag2\")\n",
       "    var pTag1 = document.getElementById(\"pTag1\")\n",
       "    var aTag1inside = aTag1.innerHTML\n",
       "    var aTag2inside = aTag2.innerHTML\n",
       "    aTag1.innerHTML = aTag2inside\n",
       "    aTag2.innerHTML = aTag1inside\n",
       "    var pTag1 = document.getElementById(\"pTag1\")\n",
       "    pTag1.innerHTML = \"switched!\"\n",
       "  }\n",
       "</script>\n"
      ],
      "text/plain": [
       "<IPython.core.display.HTML object>"
      ]
     },
     "metadata": {},
     "output_type": "display_data"
    }
   ],
   "source": [
    "%%html\n",
    "\n",
    "<div>\n",
    "    <p style=\"color:Tomato;\" id=\"pTag1\">This is how you make text in a paragraph form</p>\n",
    "    <button style=\"color:Chartreuse;\" onclick=\"switchlinks()\">Switch</button>\n",
    "</div>\n",
    "<br>\n",
    "<div>\n",
    "    <a style=\"color:DodgerBlue;\" id=\"aTag1\" href=\"https://brandonso36.github.io/brandonso/\">Link to my Github Blog</a>\n",
    "    <br>\n",
    "    <a style=\"color:DodgerBlue;\" id=\"aTag2\" href=\"https://nighthawkcoders.github.io/teacher/basics/html\">Where I learned this</a>\n",
    "    <p style=\"color:Tomato;\">This is the end of this html stuff</p>\n",
    "</div>\n",
    "\n",
    "\n",
    "<script>\n",
    "  function switchlinks() {\n",
    "    var aTag1 = document.getElementById(\"aTag1\")\n",
    "    var aTag2 = document.getElementById(\"aTag2\")\n",
    "    var pTag1 = document.getElementById(\"pTag1\")\n",
    "    var aTag1inside = aTag1.innerHTML\n",
    "    var aTag2inside = aTag2.innerHTML\n",
    "    aTag1.innerHTML = aTag2inside\n",
    "    aTag2.innerHTML = aTag1inside\n",
    "    var pTag1 = document.getElementById(\"pTag1\")\n",
    "    pTag1.innerHTML = \"switched!\"\n",
    "  }\n",
    "</script>"
   ]
  }
 ],
 "metadata": {
  "kernelspec": {
   "display_name": "Python 3",
   "language": "python",
   "name": "python3"
  },
  "language_info": {
   "codemirror_mode": {
    "name": "ipython",
    "version": 3
   },
   "file_extension": ".py",
   "mimetype": "text/x-python",
   "name": "python",
   "nbconvert_exporter": "python",
   "pygments_lexer": "ipython3",
   "version": "3.10.12"
  },
  "orig_nbformat": 4
 },
 "nbformat": 4,
 "nbformat_minor": 2
}
