{
 "cells": [
  {
   "cell_type": "markdown",
   "metadata": {},
   "source": [
    "---\n",
    "title: Javascript Data Types/Lists\n",
    "description: A Tech Talk on javascript data types and how to use with lists\n",
    "permalink: /basics/datatypes\n",
    "courses: { compsci: { week: 5 } }\n",
    "categories: [C4.1]\n",
    "comments: true\n",
    "type: ccc\n",
    "hide: True\n",
    "---"
   ]
  },
  {
   "cell_type": "raw",
   "metadata": {},
   "source": [
    "{% include nav_basics.html %}"
   ]
  },
  {
   "cell_type": "markdown",
   "metadata": {},
   "source": [
    "# Hacks\n",
    "Create a JavaScript snippet below with the following requirements:\n",
    "- Create an object representing yourself as a person. The object should have keys for your name, age, current classes, interests, and two more of your choosing\n",
    "- Your object must contain keys whose values are arrays. The arrays can be arrays of strings, numbers, or even other objects if you would like\n",
    "- Print the entire object after declaring it\n",
    "- Manipulate the arrays within the object and print the entire object as well as the specific changed key afterwards\n",
    "- Perform mathematical operations on fields in your object such as +, -, /, % etc. and print the results along with a message contextualizing them\n",
    "- Use typeof to determine the types of at least 3 fields in your object"
   ]
  },
  {
   "cell_type": "code",
   "execution_count": 9,
   "metadata": {
    "vscode": {
     "languageId": "javascript"
    }
   },
   "outputs": [
    {
     "data": {
      "application/javascript": "\nconst person = { // this whole thing is the object\n    name: \"Brandon So\", // my name is a string\n    age: 16, // my age is a number\n    currentClasses: [\"AP CSP\", \"AP English Language\", \"AP Physics\", \"AP Calculus\"], \n    interests: [\"Programming\", \"Volleyball\", \"Working Out\"],\n    favoriteMovies: [\"Avengers Endgame\", \"Moneyball\"],\n    hoursOfWorkPerDay: 2,\n  };\n  \n  // Print the entire object\n  console.log(\"Name:\", person.name);\n  console.log(\"Age:\", person.age);\n  console.log(\"Interests:\", person.interests);\n  console.log(\"Classes:\", person.currentClasses);\n  console.log(\"Favorite Movies:\", person.favoriteMovies);\n\n  \n  // Manipulation of the arrays within the object\n  person.currentClasses.push(\"US History\");\n  person.interests.pop();\n  person.favoriteMovies[1] = \"The Godfather\";\n  \n  // Print the entire object after manipulation\n  console.log(\"Interests:\", person.interests);\n  console.log(\"Classes:\", person.currentClasses);\n  console.log(\"Favorite Movies:\", person.favoriteMovies);\n  console.log(\"Hours of Homework:\", person.hoursOfWorkPerDay);\n  \n  // Perform mathematical operations on fields\n  const totalHoursOfWorkPerWeek = person.hoursOfWorkPerDay * 7;\n  const ageInFiveYears = person.age + 5;\n  \n  // Print results with contextual messages\n  console.log(\"Total hours of work per week:\", totalHoursOfWorkPerWeek);\n  console.log(\"Age in five years:\", ageInFiveYears);\n\n\n// Determine the types of 3 fields in my Object\nconsole.log(\"Name is a\", typeof person.name);\nconsole.log(\"Age is a\", typeof person.age);\nconsole.log(\"Interests is an\", typeof person.interests);\n \n",
      "text/plain": [
       "<IPython.core.display.Javascript object>"
      ]
     },
     "metadata": {},
     "output_type": "display_data"
    }
   ],
   "source": [
    "%%js\n",
    "\n",
    "const person = { // this whole thing is the object\n",
    "    name: \"Brandon So\", // my name is a string\n",
    "    age: 16, // my age is a number\n",
    "    currentClasses: [\"AP CSP\", \"AP English Language\", \"AP Physics\", \"AP Calculus\"], \n",
    "    interests: [\"Programming\", \"Volleyball\", \"Working Out\"],\n",
    "    favoriteMovies: [\"Avengers Endgame\", \"Moneyball\"],\n",
    "    hoursOfWorkPerDay: 2,\n",
    "  };\n",
    "  \n",
    "  // Print the entire object\n",
    "  console.log(\"Name:\", person.name);\n",
    "  console.log(\"Age:\", person.age);\n",
    "  console.log(\"Interests:\", person.interests);\n",
    "  console.log(\"Classes:\", person.currentClasses);\n",
    "  console.log(\"Favorite Movies:\", person.favoriteMovies);\n",
    "\n",
    "  \n",
    "  // Manipulation of the arrays within the object\n",
    "  person.currentClasses.push(\"US History\");\n",
    "  person.interests.pop();\n",
    "  person.favoriteMovies[1] = \"The Godfather\";\n",
    "  \n",
    "  // Print the entire object after manipulation\n",
    "  console.log(\"Interests:\", person.interests);\n",
    "  console.log(\"Classes:\", person.currentClasses);\n",
    "  console.log(\"Favorite Movies:\", person.favoriteMovies);\n",
    "  console.log(\"Hours of Homework:\", person.hoursOfWorkPerDay);\n",
    "  \n",
    "  // Perform mathematical operations on fields\n",
    "  const totalHoursOfWorkPerWeek = person.hoursOfWorkPerDay * 7;\n",
    "  const ageInFiveYears = person.age + 5;\n",
    "  \n",
    "  // Print results with contextual messages\n",
    "  console.log(\"Total hours of work per week:\", totalHoursOfWorkPerWeek);\n",
    "  console.log(\"Age in five years:\", ageInFiveYears);\n",
    "\n",
    "\n",
    "// Determine the types of 3 fields in my Object\n",
    "console.log(\"Name is a\", typeof person.name);\n",
    "console.log(\"Age is a\", typeof person.age);\n",
    "console.log(\"Interests is an\", typeof person.interests);\n",
    " "
   ]
  }
 ],
 "metadata": {
  "kernelspec": {
   "display_name": "Python 3 (ipykernel)",
   "language": "python",
   "name": "python3"
  },
  "language_info": {
   "codemirror_mode": {
    "name": "ipython",
    "version": 3
   },
   "file_extension": ".py",
   "mimetype": "text/x-python",
   "name": "python",
   "nbconvert_exporter": "python",
   "pygments_lexer": "ipython3",
   "version": "3.10.12"
  }
 },
 "nbformat": 4,
 "nbformat_minor": 4
}
