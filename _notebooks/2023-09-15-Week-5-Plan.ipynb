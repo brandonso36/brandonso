{
 "cells": [
  {
   "cell_type": "markdown",
   "metadata": {},
   "source": [
    "---\n",
    "comments: false\n",
    "layout: post\n",
    "title: Week 5 Plan\n",
    "description: This is an overview of what I hope to accomplish throughout week 5\n",
    "type: plans\n",
    "courses: { compsci: {week: 5} }\n",
    "categories: [C4.1]\n",
    "---"
   ]
  },
  {
   "cell_type": "markdown",
   "metadata": {},
   "source": [
    "# Goals\n",
    "\n",
    "- Learn about binary and its applications\n",
    "\n",
    "- Create our shared python flask server and make sure everyone can access it \n",
    "\n",
    "- Start looking into our student teaching "
   ]
  }
 ],
 "metadata": {
  "language_info": {
   "name": "python"
  },
  "orig_nbformat": 4
 },
 "nbformat": 4,
 "nbformat_minor": 2
}
