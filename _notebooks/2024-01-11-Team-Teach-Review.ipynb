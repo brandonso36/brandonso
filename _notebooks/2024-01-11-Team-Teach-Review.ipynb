{
 "cells": [
  {
   "cell_type": "markdown",
   "metadata": {},
   "source": [
    "---\n",
    "toc: false\n",
    "comments: true\n",
    "layout: post\n",
    "title: Team Teach Review\n",
    "description: Team Teach Grading\n",
    "type: tangibles\n",
    "courses: { compsci: {week: 17} }\n",
    "categories: [C4.1]\n",
    "---"
   ]
  },
  {
   "cell_type": "markdown",
   "metadata": {},
   "source": [
    "# Team Grading\n",
    "\n",
    "|                    | Score | Grader Verification | Extras                              | Key Indicators: Blog, GitHub File(s) and Key Commits |\n",
    "|--------------------|-------|----------------------|-------------------------------------|------------------------------------------------------|\n",
    "| The Internet        | 0.93  | Aidan L.             | Did extra outside research          | [Link to Blog](https://brandonso36.github.io/brandonso//2023/11/27/internet_IPYNB_2_.html)                   |\n",
    "| Routing and Computing | 0.94  | Ryan L.              | Watched a CB video                  | [Link to Blog](https://brandonso36.github.io/brandonso//c4.1/2023/11/30/StudentTeahing_IPYNB_2_.html)                   |\n",
    "| Beneficial and Harmful Effects | 0.91  | Tarun T.        | None| [Link to Blog](https://brandonso36.github.io/brandonso//2023/11/16/Beneficial-and-Harmful-Effect_IPYNB_2_.html)                   |\n",
    "| Digital Divide      | 0.9   | Eshaan K.            | None               | [Link to Blog](https://brandonso36.github.io/brandonso//c4.1/2023/12/07/TeamTeach_IPYNB_2_.html)                   |\n",
    "| Computing Bias      | 0.95  | Isabella P.          | Watched CB videos                   | [Link to Blog](https://brandonso36.github.io/brandonso//c4.1/2023/12/12/Computing-Bias_IPYNB_2_.html)                   |\n",
    "| Undecided Problems  | 0.89  | Shuban P, Akhil S.   | None                        | [Link to Blog](https://brandonso36.github.io/brandonso//c4.1/2023/12/13/Undecided-Problems_IPYNB_2_.html)                   |\n",
    "| Crowdsourcing       |    0.92   | Anthony Y.           |None                                     | [Link to Blog](https://brandonso36.github.io/brandonso//2023/11/16/teamteach_IPYNB_2_.html)                   |\n",
    "| Legal Ethical Concerns | My own | N/A                | N/A                                 | N/A                                                  |\n",
    "| Safe Computing      | 1.00  | Abby A.                     |Watched CB videos and googled                                     | [Link to Blog](https://brandonso36.github.io/brandonso//2023/12/21/Safe_Computing_IPYNB_2_.html)                   |\n",
    "| CB Quiz             | 63/67 |          N/A            | Researched questions I missed        | [Link to Blog](https://brandonso36.github.io/brandonso//c4.1/2023/12/21/CB-Quiz_IPYNB_2_.html)                   |\n",
    "|--------------------|-------|----------------------|-------------------------------------|------------------------------------------------------|\n",
    "| Totals             | Median Score: 0.925        | Number complete: 8                   | Extra effort count: 5                 | Key tangible assets count: 9                           |\n"
   ]
  }
 ],
 "metadata": {
  "language_info": {
   "name": "python"
  }
 },
 "nbformat": 4,
 "nbformat_minor": 2
}
