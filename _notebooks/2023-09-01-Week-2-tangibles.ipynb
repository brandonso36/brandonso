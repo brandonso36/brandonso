{
 "cells": [
  {
   "cell_type": "markdown",
   "metadata": {},
   "source": [
    "---\n",
    "comments: false\n",
    "layout: post\n",
    "title: Week 2 Overview\n",
    "description: This is an overview of what I accomplished throughout week 2\n",
    "type: tangibles\n",
    "courses: { compsci: {week: 2} }\n",
    "categories: [C4.1]\n",
    "---"
   ]
  },
  {
   "cell_type": "markdown",
   "metadata": {},
   "source": [
    "# Week 2 Overview\n",
    "\n",
    "**Things I Learned**\n",
    "\n",
    "- I learned basic python coding such as the print command and creating variables\n",
    "\n",
    "- I learned how to make a table in html which I used to detail the top selling video games\n",
    "\n",
    "- I learned how to organize my lab notebook \n",
    "\n",
    "- I learned how to integrate interactive into my notebook\n"
   ]
  },
  {
   "cell_type": "markdown",
   "metadata": {},
   "source": [
    "**Issues and Fixes**\n",
    "\n",
    "- My new posts were not appearing in the time box, so I changed the course to compsci and then the corresponding weeks\n",
    "\n",
    "- Other posts that were in the sample were still in my time box, so I commented out the courses code\n",
    "\n",
    "- My games were not working when I tried putting them in my lab notebook, but then I transferred the code from a notebook to a post"
   ]
  }
 ],
 "metadata": {
  "language_info": {
   "name": "python"
  },
  "orig_nbformat": 4
 },
 "nbformat": 4,
 "nbformat_minor": 2
}
