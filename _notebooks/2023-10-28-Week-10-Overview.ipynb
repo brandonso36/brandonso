{
 "cells": [
  {
   "cell_type": "markdown",
   "metadata": {},
   "source": [
    "---\n",
    "comments: false\n",
    "layout: post\n",
    "title: Week 10 Overview\n",
    "description: This is an overview of what I accomplished throughout week 10\n",
    "type: tangibles\n",
    "courses: { compsci: {week: 10} }\n",
    "categories: [C4.1]\n",
    "---"
   ]
  },
  {
   "cell_type": "markdown",
   "metadata": {},
   "source": [
    "# Accomplishments\n",
    "\n",
    "- Almost got the backend to store and retreive data (working in postman but not in local)\n",
    "\n",
    "- Continued working on linking the backend and frontend repositories\n",
    "\n",
    "- Prepared for the individual and team showcases this week\n",
    "\n",
    "- Graded homeworks that were submitted for our student teaching\n"
   ]
  }
 ],
 "metadata": {
  "language_info": {
   "name": "python"
  }
 },
 "nbformat": 4,
 "nbformat_minor": 2
}
