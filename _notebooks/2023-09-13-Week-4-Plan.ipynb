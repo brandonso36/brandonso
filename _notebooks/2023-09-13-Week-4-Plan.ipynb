{
 "cells": [
  {
   "cell_type": "markdown",
   "metadata": {},
   "source": [
    "---\n",
    "comments: false\n",
    "layout: post\n",
    "title: Week 4 Plan\n",
    "description: This is an overview of what I hope to accomplish throughout week 4\n",
    "type: plans\n",
    "courses: { compsci: {week: 4} }\n",
    "categories: [C4.1]\n",
    "---"
   ]
  },
  {
   "cell_type": "markdown",
   "metadata": {},
   "source": [
    "# Objectives\n",
    "\n",
    "- Create a python flask server\n",
    "\n",
    "- Work on creating our team manifesto\n",
    "\n",
    "- Prepare for the team test"
   ]
  },
  {
   "cell_type": "markdown",
   "metadata": {},
   "source": []
  }
 ],
 "metadata": {
  "language_info": {
   "name": "python"
  },
  "orig_nbformat": 4
 },
 "nbformat": 4,
 "nbformat_minor": 2
}
