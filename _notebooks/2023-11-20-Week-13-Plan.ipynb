{
 "cells": [
  {
   "cell_type": "markdown",
   "metadata": {},
   "source": [
    "---\n",
    "comments: false\n",
    "layout: post\n",
    "title: Week 13 Plan\n",
    "description: This is an overview of what I hope to accomplish throughout week 13\n",
    "type: plans\n",
    "courses: { compsci: {week: 13} }\n",
    "categories: [C4.1]\n",
    "---"
   ]
  },
  {
   "cell_type": "markdown",
   "metadata": {},
   "source": [
    "# Goals\n",
    "\n",
    "- Find a group to work in and make a shared repository\n",
    "\n",
    "- Brainstorm ideas for our project\n",
    "\n",
    "- Work on the binary project \n",
    "\n",
    "    - Including styling and explanation of code"
   ]
  }
 ],
 "metadata": {
  "language_info": {
   "name": "python"
  }
 },
 "nbformat": 4,
 "nbformat_minor": 2
}
