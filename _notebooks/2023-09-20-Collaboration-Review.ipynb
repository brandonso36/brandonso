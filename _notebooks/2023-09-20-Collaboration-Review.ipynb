{
 "cells": [
  {
   "cell_type": "markdown",
   "metadata": {},
   "source": [
    "# Collaboration Review\n",
    "\n",
    "**What are the benefits of a team? Explain some of the diveristies that your team has to offer.**\n",
    "\n",
    "Working in a team allows team members to communicate ideas and build upon each other to complete tasks more efficiently. Eshaan (Scrum Master) has a background working with computers and experience with Cyber Patriots. Ninaad (DevOps) is eager to learn more about coding and has a creative mind. Aaron (Backend Developer) is experienced with coding and has a deep understanding of python. Brandon (Frontend Developer) has some experience in coding and is practicing to improve daily.\n",
    "\n",
    "**Describe how you will facilitate communication amongst group members.**\n",
    "\n",
    "In order to communicate effectively amongst group members, we have created a groupchat in iMessages so that we can get a hold of each other at a moments notice. Addtionally, we created another groupchat in Slack to communicate code and send messgaes that contain more content.\n",
    "\n",
    "**How will you hold each person accountable for their portion of the work? Think about dates, review tickets, and peer reviews**\n",
    "\n",
    "The Scrum Master (Eshaan) will send us messages in both slack and iMessages on dates to complete tasks by. Also, we will utilize a scrum board with tasks to complete and their dates, as well as dates of upcoming tests."
   ]
  }
 ],
 "metadata": {
  "language_info": {
   "name": "python"
  },
  "orig_nbformat": 4
 },
 "nbformat": 4,
 "nbformat_minor": 2
}
