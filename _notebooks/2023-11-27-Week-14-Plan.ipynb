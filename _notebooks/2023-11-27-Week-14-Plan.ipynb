{
 "cells": [
  {
   "cell_type": "markdown",
   "metadata": {},
   "source": [
    "---\n",
    "comments: false\n",
    "layout: post\n",
    "title: Week 14 Plan\n",
    "description: This is an overview of what I hope to accomplish throughout week 14\n",
    "type: plans\n",
    "courses: { compsci: {week: 14} }\n",
    "categories: [C4.1]\n",
    "---"
   ]
  },
  {
   "cell_type": "markdown",
   "metadata": {},
   "source": [
    "# Goals \n",
    "\n",
    "- Work on the binary project homepage\n",
    "\n",
    "    - Including styling and explanation of code\n",
    "\n",
    "- Work on (finish) the homework and popcorn hacks for the team teaches\n",
    "\n",
    "- Work on our team teach presentation by watching CB video and making google doc"
   ]
  }
 ],
 "metadata": {
  "language_info": {
   "name": "python"
  }
 },
 "nbformat": 4,
 "nbformat_minor": 2
}
