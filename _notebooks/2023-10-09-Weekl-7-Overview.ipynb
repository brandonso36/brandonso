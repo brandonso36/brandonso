{
 "cells": [
  {
   "cell_type": "markdown",
   "metadata": {},
   "source": [
    "---\n",
    "comments: false\n",
    "layout: post\n",
    "title: Week 7 Overview\n",
    "description: This is an overview of what I accomplished throughout week 7\n",
    "type: tangibles\n",
    "courses: { compsci: {week: 7} }\n",
    "categories: [C4.1]\n",
    "---"
   ]
  },
  {
   "cell_type": "markdown",
   "metadata": {},
   "source": [
    "# Accomplishments\n",
    "\n",
    "- Created both a frontend repository and a backend repository\n",
    "\n",
    "- Decided on a project idea and started working on the frontend (chat app)\n",
    "\n",
    "- Watched the college board video on our student teaching lesson \n",
    "\n",
    "- Completed the homework hacks and popcorn hacks for the student teachings this week \n",
    "\n",
    "    - Learned about Algorithms and Boolean If "
   ]
  }
 ],
 "metadata": {
  "language_info": {
   "name": "python"
  }
 },
 "nbformat": 4,
 "nbformat_minor": 2
}
