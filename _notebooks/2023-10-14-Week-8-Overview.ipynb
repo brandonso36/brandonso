{
 "cells": [
  {
   "cell_type": "markdown",
   "metadata": {},
   "source": [
    "---\n",
    "comments: false\n",
    "layout: post\n",
    "title: Week 8 Overview\n",
    "description: This is an overview of what I accomplished throughout week 8\n",
    "type: tangibles\n",
    "courses: { compsci: {week: 8} }\n",
    "categories: [C4.1]\n",
    "---"
   ]
  },
  {
   "cell_type": "markdown",
   "metadata": {},
   "source": [
    "# Accomplishments\n",
    "\n",
    "- Created both a frontend repository and a backend repository for our chat website\n",
    "\n",
    "- Created a new api called chat.py \n",
    "\n",
    "- Finished watching all the college board videos and started forming our lesson plan\n",
    "\n",
    "- Created homework hacks and popcorn hacks for the student teaching this week\n",
    "\n",
    "- Completed the assigned homework hacks and popcorn hacks for the student teachings this week"
   ]
  }
 ],
 "metadata": {
  "language_info": {
   "name": "python"
  }
 },
 "nbformat": 4,
 "nbformat_minor": 2
}
