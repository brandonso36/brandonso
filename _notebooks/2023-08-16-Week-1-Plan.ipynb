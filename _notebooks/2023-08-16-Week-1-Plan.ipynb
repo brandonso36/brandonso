{
 "cells": [
  {
   "cell_type": "markdown",
   "metadata": {},
   "source": [
    "---\n",
    "comments: false\n",
    "layout: post\n",
    "title: Week 1 Plan\n",
    "description: This is an overview of what I accomplished throughout week 1\n",
    "type: plans\n",
    "courses: { compsci: {week: 1} }\n",
    "categories: [C4.1]\n",
    "---"
   ]
  },
  {
   "cell_type": "code",
   "execution_count": null,
   "metadata": {
    "vscode": {
     "languageId": "plaintext"
    }
   },
   "outputs": [],
   "source": []
  },
  {
   "cell_type": "markdown",
   "metadata": {},
   "source": [
    "# Weekly Plan\n",
    "\n",
    "**Monday:** Start adding notebooks to my blog and working on my Week 0/1 Overview for the live review\n",
    "\n",
    "**Tuesday:** Learn to be more proficient in Markdown and figure out how to add images to my blog\n",
    "\n",
    "**Wendesday:** Prep for the live reivew and add more features to my blog \n",
    "\n",
    "**Thursday:** Live Review\n",
    "\n",
    "**Friday:** Start learning how to code in python (basics)\n"
   ]
  },
  {
   "cell_type": "markdown",
   "metadata": {},
   "source": []
  }
 ],
 "metadata": {
  "language_info": {
   "name": "python"
  },
  "orig_nbformat": 4
 },
 "nbformat": 4,
 "nbformat_minor": 2
}
