{
 "cells": [
  {
   "cell_type": "markdown",
   "metadata": {},
   "source": [
    "---\n",
    "comments: false\n",
    "layout: post\n",
    "title: Week 6 Plan\n",
    "description: This is an overview of what I hope to accomplish throughout week 6\n",
    "type: plans\n",
    "courses: { compsci: {week: 6} }\n",
    "categories: [C4.1]\n",
    "---"
   ]
  },
  {
   "cell_type": "markdown",
   "metadata": {},
   "source": [
    "# Goals\n",
    "\n",
    "- Deploy our python flask server onto AWS\n",
    "\n",
    "- Do all the hacks for the JS Basics Team Test under Web Programming Basics\n",
    "\n",
    "- Add utterance comments in other's team tests\n",
    "\n",
    "- Start looking into a passion project that is interesting\n"
   ]
  }
 ],
 "metadata": {
  "language_info": {
   "name": "python"
  },
  "orig_nbformat": 4
 },
 "nbformat": 4,
 "nbformat_minor": 2
}
