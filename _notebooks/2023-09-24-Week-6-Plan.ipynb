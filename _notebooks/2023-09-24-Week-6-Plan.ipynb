{
 "cells": [
  {
   "cell_type": "markdown",
   "metadata": {},
   "source": [
    "---\n",
    "comments: false\n",
    "layout: post\n",
    "title: Week 6 Plan\n",
    "description: This is an overview of what I hope to accomplish throughout week 6\n",
    "type: plans\n",
    "courses: { compsci: {week: 6} }\n",
    "categories: [C4.1]\n",
    "---"
   ]
  }
 ],
 "metadata": {
  "language_info": {
   "name": "python"
  },
  "orig_nbformat": 4
 },
 "nbformat": 4,
 "nbformat_minor": 2
}
