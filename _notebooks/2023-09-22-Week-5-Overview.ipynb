{
 "cells": [
  {
   "cell_type": "markdown",
   "metadata": {},
   "source": [
    "---\n",
    "comments: false\n",
    "layout: post\n",
    "title: Week 5 Overview\n",
    "description: This is an overview of what I accomplished throughout week 5\n",
    "type: tangibles\n",
    "courses: { compsci: {week: 5} }\n",
    "categories: [C4.1]\n",
    "---"
   ]
  },
  {
   "cell_type": "markdown",
   "metadata": {},
   "source": [
    "# Week 5 Overview\n",
    "\n",
    "**Accomplishments**\n",
    "\n",
    "- Created a working python flask server that can be accessed by all team members\n",
    "\n",
    "- Learned about binary's function\n",
    "\n",
    "- Looked into our student teaching "
   ]
  },
  {
   "cell_type": "markdown",
   "metadata": {},
   "source": [
    "**Issues**\n",
    "\n",
    "- "
   ]
  }
 ],
 "metadata": {
  "language_info": {
   "name": "python"
  },
  "orig_nbformat": 4
 },
 "nbformat": 4,
 "nbformat_minor": 2
}
