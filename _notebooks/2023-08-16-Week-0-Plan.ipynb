{
 "cells": [
  {
   "cell_type": "markdown",
   "metadata": {},
   "source": [
    "---\n",
    "comments: false\n",
    "layout: post\n",
    "title: Week 0 Plan\n",
    "description: This is an overview of what I accomplished throughout week 0\n",
    "type: plans\n",
    "courses: { compsci: {week: 0} }\n",
    "categories: [C4.1]\n",
    "---"
   ]
  },
  {
   "cell_type": "markdown",
   "metadata": {},
   "source": [
    "# Weekly Plan\n",
    "\n",
    "**Wednesday:** Get introduced to the course, get familiar with the course and teacher. Install slack and get on the canvas page\n",
    "\n",
    "**Thursday:** Join the CSP slack and set up my github account. Create my student repository and watch video on agile mindset\n",
    "\n",
    "**Friday:** Start installing all the tools I need by following the lesson plan and opening vscode to start working on my blog"
   ]
  },
  {
   "cell_type": "markdown",
   "metadata": {},
   "source": []
  }
 ],
 "metadata": {
  "kernelspec": {
   "display_name": "Python 3",
   "language": "python",
   "name": "python3"
  },
  "language_info": {
   "codemirror_mode": {
    "name": "ipython",
    "version": 3
   },
   "file_extension": ".py",
   "mimetype": "text/x-python",
   "name": "python",
   "nbconvert_exporter": "python",
   "pygments_lexer": "ipython3",
   "version": "3.10.12"
  },
  "orig_nbformat": 4
 },
 "nbformat": 4,
 "nbformat_minor": 2
}
