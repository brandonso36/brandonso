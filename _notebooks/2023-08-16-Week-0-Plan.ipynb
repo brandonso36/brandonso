{
 "cells": [
  {
   "cell_type": "markdown",
   "metadata": {},
   "source": [
    "---\n",
    "comments: false\n",
    "layout: post\n",
    "title: Week 0 Plan\n",
    "description: This is an overview of what I accomplished throughout week 0\n",
    "type: plans\n",
    "courses: { compsci: {week: 0} }\n",
    "categories: [C4.1]\n",
    "---"
   ]
  },
  {
   "cell_type": "markdown",
   "metadata": {},
   "source": [
    "# Weekly Plan\n",
    "\n",
    "**Wednesday:** Get introduced to the course, get familiar with the course and teacher. Install slack and get on the canvas page\n",
    "\n",
    "**Thursday:** Join the CSP slack and set up my github account. Create my student repository and watch video on agile mindset\n",
    "\n",
    "**Friday:** Start installing all the tools I need by following the lesson plan and opening vscode to start working on my blog"
   ]
  }
 ],
 "metadata": {
  "language_info": {
   "name": "python"
  },
  "orig_nbformat": 4
 },
 "nbformat": 4,
 "nbformat_minor": 2
}
