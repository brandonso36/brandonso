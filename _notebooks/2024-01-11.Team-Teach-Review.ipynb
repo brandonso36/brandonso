{
 "cells": [
  {
   "cell_type": "markdown",
   "metadata": {},
   "source": [
    "---\n",
    "comments: false\n",
    "layout: post\n",
    "title: Team Teach Review 1\n",
    "description: \n",
    "type: tangibles\n",
    "courses: { compsci: {week: 17} }\n",
    "categories: [C4.1]\n",
    "---"
   ]
  },
  {
   "cell_type": "markdown",
   "metadata": {},
   "source": [
    "# Team Grading\n",
    "\n",
    "|                                      | Score/Grader Verification | Runtime | Extras                                       | Key Indicators: Blog, GitHub File(s) and Key Commits |\n",
    "|--------------------------------------|---------------------------|---------|----------------------------------------------|------------------------------------------------------|\n",
    "| The Internet                          |0.93 Aidan L.              |         |                                              |                                                      |\n",
    "| Routing and Computing                 |0.94 Ryan L.                    |         |                                              |                                                      |\n",
    "| Beneficial and Harmful Effects        |0.91 Tarun T.|         |                                              |                                                      |\n",
    "| Digital Divide                        |0.9 Eshaan K.               |         |                                              |                                                      |\n",
    "| Computing Bias                        |0.95 Isabella P.                 |         |                                              |                                                      |\n",
    "| Crowdsourcing                         |0.89 Shuban P, Akhil S |         |                                              |                                                      |\n",
    "| Legal Ethical Concerns                |My own                           |         |                                              |                                                      |\n",
    "| Safe Computing                        |                           |         |                                              |                                                      |\n",
    "| CB Quiz                               |63/67                           |         |                                              |                                                      |\n",
    "|--------------------------------------|---------------------------|---------|----------------------------------------------|------------------------------------------------------|\n",
    "| Totals                               | Median Score: 0.93             | Number complete: | Extra effort count: | Key tangible assets count: |\n"
   ]
  }
 ],
 "metadata": {
  "language_info": {
   "name": "python"
  }
 },
 "nbformat": 4,
 "nbformat_minor": 2
}
