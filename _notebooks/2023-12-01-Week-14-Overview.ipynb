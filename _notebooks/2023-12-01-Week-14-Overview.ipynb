{
 "cells": [
  {
   "cell_type": "markdown",
   "metadata": {},
   "source": [
    "---\n",
    "comments: false\n",
    "layout: post\n",
    "title: Week 14 Overview\n",
    "description: This is an overview of what I accomplished throughout week 14\n",
    "type: tangibles\n",
    "courses: { compsci: {week: 14} }\n",
    "categories: [C4.1]\n",
    "---"
   ]
  },
  {
   "cell_type": "markdown",
   "metadata": {},
   "source": [
    "# Accomplishments\n",
    "\n",
    "- Brainstormed ideas to differentiate my feature from other features\n",
    "\n",
    "    - Adding a hex color searcher\n",
    "\n",
    "- Finished the college board video on our team teach\n",
    "\n",
    "- Worked on gathering information and brainstormed questions for team teach"
   ]
  }
 ],
 "metadata": {
  "language_info": {
   "name": "python"
  }
 },
 "nbformat": 4,
 "nbformat_minor": 2
}
