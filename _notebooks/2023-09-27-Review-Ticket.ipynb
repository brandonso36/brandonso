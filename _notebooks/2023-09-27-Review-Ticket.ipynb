{
 "cells": [
  {
   "cell_type": "markdown",
   "metadata": {},
   "source": [
    "---\n",
    "comments: false\n",
    "layout: post\n",
    "title: JS Basics Review Ticket\n",
    "description: This is an overview of what I accomplished during the Web Programming Basics Hacks\n",
    "type: tangibles\n",
    "courses: { compsci: {week: 6} }\n",
    "categories: [C4.1]\n",
    "---"
   ]
  },
  {
   "cell_type": "markdown",
   "metadata": {},
   "source": [
    "# Review Ticket \n",
    "\n",
    "**Accomplishments**\n",
    "\n",
    "- I completed all of the hacks for the Web Programming Basics\n",
    "\n",
    "- I created a page utilizing a nav file framework\n",
    "\n",
    "- I added utterance comments to other people's test\n",
    "\n",
    "- Collaborated with members in my group to work through issues"
   ]
  },
  {
   "cell_type": "markdown",
   "metadata": {},
   "source": [
    "**Peer Grades**\n",
    "\n",
    "- When peer reviewing myself, I gave myself 3.78 since it was very solid but not necessarily perfect in every aspect\n",
    "\n",
    "- Eshaan gave me a 3.75 with similar reviews to my own being good in a lot of areas\n",
    "\n",
    "- David (Period 1) gave me a 3.85 and thought my Web Programming Basics was really good and detailed."
   ]
  },
  {
   "cell_type": "markdown",
   "metadata": {},
   "source": [
    "**Issues**\n",
    "\n",
    "- My code simply wouldn't run and would result in an X. Eshaan pointed out that I had put %js instead of %%js which resolved the issue\n",
    "\n",
    "- My image of how my html text is supposed to look (wireframe.png) wouldn't load, so I fixed this by dragging it from the teacher repository, solving the issue\n",
    "\n",
    "- My utterance comments weren't working on my page so I fixed this by adding trying to add a comment to my own page then following the instructions on how to enable the utterance comments"
   ]
  }
 ],
 "metadata": {
  "language_info": {
   "name": "python"
  },
  "orig_nbformat": 4
 },
 "nbformat": 4,
 "nbformat_minor": 2
}
