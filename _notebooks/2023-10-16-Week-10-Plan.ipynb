{
 "cells": [
  {
   "cell_type": "markdown",
   "metadata": {},
   "source": [
    "---\n",
    "comments: false\n",
    "layout: post\n",
    "title: Week 9 Plan\n",
    "description: This is an overview of what I hope to accomplish throughout week 9\n",
    "type: plans\n",
    "courses: { compsci: {week: 9} }\n",
    "categories: [C4.1]\n",
    "---"
   ]
  },
  {
   "cell_type": "markdown",
   "metadata": {},
   "source": [
    "# Goals \n",
    "\n",
    "- Get the backend to store data (through POST requests) and retrieve data (through GET requests)\n",
    "\n",
    "- Work on our team passion project by linking the backend and frontend repositories\n",
    "\n",
    "- Get the frontend to display the data from the backend \n",
    "\n",
    "- Work on the design and user-friendliness of our website\n",
    "\n",
    "- Complete the homework hacks and popcorn hacks for the student teachings this week\n"
   ]
  }
 ],
 "metadata": {
  "language_info": {
   "name": "python"
  }
 },
 "nbformat": 4,
 "nbformat_minor": 2
}
