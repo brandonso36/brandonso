{
 "cells": [
  {
   "cell_type": "markdown",
   "metadata": {},
   "source": [
    "---\n",
    "comments: false\n",
    "layout: post\n",
    "title: Week 9 Overview\n",
    "description: This is an overview of what I accomplished throughout week 9\n",
    "type: tangibles\n",
    "courses: { compsci: {week: 9} }\n",
    "categories: [C4.1]\n",
    "---"
   ]
  },
  {
   "cell_type": "markdown",
   "metadata": {},
   "source": [
    "# Accomplishments\n",
    "\n",
    "- Completed the backend for our passion project\n",
    "\n",
    "- Worked (to some success) on our team passion project by linking the backend and frontend repositories\n",
    "\n",
    "- Completed the homework hacks and popcorn hacks for the student teachings this week\n",
    "\n",
    "- Finished our student teaching lesson\n"
   ]
  }
 ],
 "metadata": {
  "language_info": {
   "name": "python"
  }
 },
 "nbformat": 4,
 "nbformat_minor": 2
}
