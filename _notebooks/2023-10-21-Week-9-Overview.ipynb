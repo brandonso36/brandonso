{
 "cells": [
  {
   "cell_type": "markdown",
   "metadata": {},
   "source": [
    "---\n",
    "comments: false\n",
    "layout: post\n",
    "title: Week 9 Overview\n",
    "description: This is an overview of what I accomplished throughout week 9\n",
    "type: tangibles\n",
    "courses: { compsci: {week: 9} }\n",
    "categories: [C4.1]\n",
    "---"
   ]
  },
  {
   "cell_type": "markdown",
   "metadata": {},
   "source": [
    "# Accomplishments\n",
    "\n",
    "- Completed the backend for our passion project\n",
    "\n",
    "- Worked (to some success) on our team passion project by linking the backend and frontend repositories\n",
    "\n",
    "- Completed the homework hacks and popcorn hacks for the student teachings this week\n",
    "\n",
    "- Finished our student teaching lesson\n",
    "\n",
    "- Created different classes for the chat api (create, read, and test) each with their own methods (GET and POST)\n",
    "\n"
   ]
  },
  {
   "cell_type": "markdown",
   "metadata": {},
   "source": [
    "# Issues\n",
    "\n",
    "- The api (chat.py) was not defined in main.py so I fixed this by defining it (chat_api = Blueprint('chat_api', __name__,\n",
    "            url_prefix='/api/chats')\n",
    "api = Api(chat_api))\n",
    "\n",
    "- My model was not working and wasn't set up to store data so I added (from model.chats import *) to the chat.py file\n"
   ]
  }
 ],
 "metadata": {
  "language_info": {
   "name": "python"
  }
 },
 "nbformat": 4,
 "nbformat_minor": 2
}
