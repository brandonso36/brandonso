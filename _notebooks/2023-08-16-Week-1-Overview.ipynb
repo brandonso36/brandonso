{
 "cells": [
  {
   "cell_type": "markdown",
   "metadata": {},
   "source": [
    "---\n",
    "comments: false\n",
    "layout: post\n",
    "title: Week 0/1 Overview\n",
    "description: This is an overview of what I accomplished throughout the first week\n",
    "type: tangibles\n",
    "courses: { compsci: {week: 1} }\n",
    "categories: [C4.1]\n",
    "---"
   ]
  },
  {
   "cell_type": "markdown",
   "metadata": {},
   "source": [
    "# Week Overview 0/1"
   ]
  },
  {
   "cell_type": "markdown",
   "metadata": {},
   "source": [
    "**Common Commands**\n",
    "\n",
    "cd- changes the directory\n",
    "\n",
    "ls- lists the files and directories within a directory\n",
    "\n",
    "make- starts the local server\n",
    "\n",
    "code- opens vscode from the terminal\n",
    "\n",
    "pwd- states the path name of your current directory\n",
    "\n",
    "rm -rf- deletes a directory\n",
    "\n",
    "\n",
    "\n"
   ]
  },
  {
   "cell_type": "markdown",
   "metadata": {},
   "source": [
    "**Issues and Fixes**\n",
    "\n",
    "-An issue I ran into was creating this page itself. I would try and type in the cells and overall just create the page but none of it seemed to work. The issue was very simple to fix as I just needed to switch the language from python to markdown which solved all my problems. \n",
    "\n",
    "-My bundle install command was not working. To solve this, I ran a sudo command to install ruby which solved the issue.\n",
    "\n",
    "-When I created my blog, there would be a very large comment section that blocked a lot of the content on the page. I fixed this by changing the comments setting to false which removed the comment box.\n"
   ]
  },
  {
   "cell_type": "markdown",
   "metadata": {},
   "source": [
    "**Agile Mindset**\n",
    "\n",
    "Throughout the week I experienced many frustrations while trying to get everything set up. However, I kept an agile mindset and worked through these problems in collaboration with others.\n",
    "\n",
    "\n",
    "<img src=\"https://github.com/nighthawkcoders/student/assets/77716047/5251870d-ecef-41f8-8591-b80dcd365908\" width=\"600px\">"
   ]
  },
  {
   "cell_type": "markdown",
   "metadata": {},
   "source": [
    "**Summary**\n",
    "\n",
    "Throughout the week I encountered many problems, but with an agile mindset and cooperation I was able to succeed. Working in the terminal and using all of the tools feels awesome and sparked within me a deep interest in coding."
   ]
  }
 ],
 "metadata": {
  "kernelspec": {
   "display_name": "Python 3",
   "language": "python",
   "name": "python3"
  },
  "language_info": {
   "codemirror_mode": {
    "name": "ipython",
    "version": 3
   },
   "file_extension": ".py",
   "mimetype": "text/x-python",
   "name": "python",
   "nbconvert_exporter": "python",
   "pygments_lexer": "ipython3",
   "version": "3.10.12"
  },
  "orig_nbformat": 4
 },
 "nbformat": 4,
 "nbformat_minor": 2
}
