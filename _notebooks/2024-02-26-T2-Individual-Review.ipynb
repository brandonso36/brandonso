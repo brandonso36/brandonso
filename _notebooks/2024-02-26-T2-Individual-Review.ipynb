{
 "cells": [
  {
   "cell_type": "markdown",
   "metadata": {},
   "source": [
    "---\n",
    "toc: false\n",
    "comments: true\n",
    "layout: post\n",
    "title: CPT Individual Review\n",
    "description: Final Review\n",
    "type: tangibles\n",
    "courses: { compsci: {week: 24} }\n",
    "categories: [C4.1]\n",
    "---"
   ]
  },
  {
   "cell_type": "markdown",
   "metadata": {},
   "source": [
    "# Overview\n",
    "\n",
    "This review contains:\n",
    "\n",
    "- Our planning for the project before working\n",
    "\n",
    "- My code for main features\n",
    "\n",
    "- How my features maps to College Board requirements for the CPT project"
   ]
  },
  {
   "cell_type": "markdown",
   "metadata": {},
   "source": [
    "# CPT Project Plans:\n",
    "\n",
    "- Create a **FAKE** gambling site that gives users a balance to spend\n",
    "\n",
    "- Implement a user balance system\n",
    "\n",
    "- User login system for unique accounts\n",
    "\n",
    "- Unique backdrops and UI"
   ]
  },
  {
   "cell_type": "markdown",
   "metadata": {},
   "source": [
    "# My Contributions:\n",
    "\n",
    "- Worked on login and signup features\n",
    "\n",
    "- Developed a balance api that kept track of user balance\n",
    "\n",
    "- Backend code:\n",
    "\n",
    "![backend.png](https://files.catbox.moe/dstj1b.png)\n",
    "\n",
    "Code creates a database for the user balance system\n",
    "\n",
    "- Frontend code (similar between all games): \n",
    "\n",
    "![frontend.png](https://files.catbox.moe/3dwab0.png)\n",
    "\n",
    "Code updates the balance by accessing a database within the backend \n",
    "\n",
    "- Successfully deployed the backend with certbot certification\n",
    "\n",
    "![deployment.png](https://files.catbox.moe/ldzbo7.png)"
   ]
  },
  {
   "cell_type": "markdown",
   "metadata": {},
   "source": [
    "# How my Features Match CB CPT Requirements\n",
    "\n",
    "**- Instructions for input from the user (user actions)**\n",
    "\n",
    "- While users are not directly able to input their balance, they can spend and gain/lose money through the wagering system\n",
    "\n",
    "**- Use of at least one list (or other collection type) to represent a collection of data that is stored and used to manage program complexity and help fulfill the program’s purpose.**\n",
    "\n",
    "- Each individuals balance is stored within a database that represents a collection of data and helps manaage the programs complexity\n",
    "\n",
    "\n",
    "**- At least one procedure that contributes to the program’s intended purpose, where you have defined: the procedure’s name, the return type , one or more parameters**\n",
    "\n",
    "- The balance feature uses fetch to update user balance data. We fetch the user balance from the database and update it based on the user's actions\n",
    "\n",
    "**- An algorithm that includes sequencing, selection, and iteration that is in the body of the selected procedure**\n",
    "\n",
    "- My code uses conditional statements for the balance, checking to make sure the balance is not zero.\n",
    "\n",
    "**- Calls to your student-developed procedure**\n",
    "\n",
    "- The fucntions known as updateBalance is called which obviously updates the balance\n",
    "\n",
    "**- Instructions for output based on input.**\n",
    "\n",
    "- The user inputs how much money they want to spend and it is spent from their balance, where they can either win it back or lose it. If the balance is greater than the amount they own it fails or less than the required amount."
   ]
  },
  {
   "cell_type": "markdown",
   "metadata": {},
   "source": [
    "While users are not directly able to input their balance, they can spend and gain/lose money through the wagering system\n",
    "\n",
    "**- Use of at least one list (or other collection type) to represent a collection of data that is stored and used to manage program complexity and help fulfill the program’s purpose.**\n",
    "\n",
    "\n",
    "\n",
    "**- The data abstraction must make the program easier to develop or easier to maintain.**\n",
    "\n",
    "\n",
    "\n",
    "**- At least one procedure that contributes to the program’s intended purpose, where you have defined: the procedure’s name, the return type , one or more parameters**\n",
    "\n",
    "\n",
    "\n",
    "**- An algorithm that includes sequencing, selection, and iteration that is in the body of the selected procedure**\n",
    "\n",
    "\n",
    "\n",
    "**- Calls to your student-developed procedure**\n",
    "\n",
    "\n",
    "\n",
    "**- Instructions for output based on input.**"
   ]
  }
 ],
 "metadata": {
  "language_info": {
   "name": "python"
  }
 },
 "nbformat": 4,
 "nbformat_minor": 2
}
