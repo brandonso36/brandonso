{
 "cells": [
  {
   "cell_type": "markdown",
   "metadata": {},
   "source": [
    "---\n",
    "comments: false\n",
    "layout: post\n",
    "title: Week 8 Plan\n",
    "description: This is an overview of what I hope to accomplish throughout week 8\n",
    "type: plans\n",
    "courses: { compsci: {week: 8} }\n",
    "categories: [C4.1]\n",
    "---"
   ]
  },
  {
   "cell_type": "markdown",
   "metadata": {},
   "source": [
    "# Goals \n",
    "\n",
    "- Create both a frontend repository and a backend repository for our chat website\n",
    "\n",
    "- Start making a new api for our chat website called chat.py\n",
    "\n",
    "- Finish watching all the college board videos and start forming our lesson plan \n",
    "\n",
    "- Create homework hacks and popcorn hacks for the student teaching this week\n",
    "\n",
    "- Complete the assigned homework hacks and popcorn hacks for the student teachings this week"
   ]
  }
 ],
 "metadata": {
  "language_info": {
   "name": "python"
  }
 },
 "nbformat": 4,
 "nbformat_minor": 2
}
