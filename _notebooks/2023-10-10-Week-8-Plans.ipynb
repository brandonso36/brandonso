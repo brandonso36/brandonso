{
 "cells": [
  {
   "cell_type": "markdown",
   "metadata": {},
   "source": [
    "---\n",
    "comments: false\n",
    "layout: post\n",
    "title: Week 7 Plan\n",
    "description: This is an overview of what I hope to accomplish throughout week 7\n",
    "type: plans\n",
    "courses: { compsci: {week: 7} }\n",
    "categories: [C4.1]\n",
    "---"
   ]
  },
  {
   "cell_type": "markdown",
   "metadata": {},
   "source": [
    "# Goals \n",
    "\n",
    "- Work on our team passion project creating repositories and brainstorming ideas on project\n",
    "\n",
    "- Start working on our student teaching lesson plans and undestanding college board material\n",
    "\n",
    "- Complete the homework hacks and popcorn hacks for the student teachings this week"
   ]
  }
 ],
 "metadata": {
  "language_info": {
   "name": "python"
  }
 },
 "nbformat": 4,
 "nbformat_minor": 2
}
