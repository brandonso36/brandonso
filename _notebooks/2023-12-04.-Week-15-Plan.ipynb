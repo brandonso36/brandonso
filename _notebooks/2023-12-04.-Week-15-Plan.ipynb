{
 "cells": [
  {
   "cell_type": "markdown",
   "metadata": {},
   "source": [
    "---\n",
    "comments: false\n",
    "layout: post\n",
    "title: Week 15 Plan\n",
    "description: This is an overview of what I hope to accomplish throughout week 15\n",
    "type: plans\n",
    "courses: { compsci: {week: 15} }\n",
    "categories: [C4.1]\n",
    "---"
   ]
  },
  {
   "cell_type": "markdown",
   "metadata": {},
   "source": [
    "# Goals \n",
    "\n",
    "- Finish implementing my new feature (hex color searcher)\n",
    "\n",
    "- Start working on team teaching plans and strucutre\n",
    "\n",
    "- Work on my video for the binary project"
   ]
  }
 ],
 "metadata": {
  "language_info": {
   "name": "python"
  }
 },
 "nbformat": 4,
 "nbformat_minor": 2
}
