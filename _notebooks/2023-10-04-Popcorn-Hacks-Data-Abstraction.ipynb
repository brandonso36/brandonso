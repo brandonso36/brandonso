{
 "cells": [
  {
   "cell_type": "markdown",
   "metadata": {},
   "source": [
    "---\n",
    "toc: false\n",
    "comments: false\n",
    "layout: post\n",
    "title: Data Abstraction Popcorn Hacks\n",
    "description: Data Abstraction Popcorn Hacks\n",
    "courses: { compsci: {week: 8} }\n",
    "type: tangibles\n",
    "---"
   ]
  },
  {
   "cell_type": "markdown",
   "metadata": {},
   "source": [
    "# Data Abstraction (3.1,3.2) Popcorn Hacks"
   ]
  },
  {
   "cell_type": "code",
   "execution_count": 2,
   "metadata": {},
   "outputs": [
    {
     "name": "stdout",
     "output_type": "stream",
     "text": [
      "Tinga\n"
     ]
    }
   ],
   "source": [
    "tinga = \"Tinga\"\n",
    "print(tinga)"
   ]
  },
  {
   "cell_type": "code",
   "execution_count": 5,
   "metadata": {},
   "outputs": [
    {
     "name": "stdout",
     "output_type": "stream",
     "text": [
      "tinga\n",
      "7\n",
      "False\n",
      "True\n"
     ]
    }
   ],
   "source": [
    "tinga = \"tinga\"\n",
    "print(tinga)\n",
    "\n",
    "numba = 7\n",
    "print(numba)\n",
    "\n",
    "rate = 7\n",
    "print(rate>8)\n",
    "print(rate>0)"
   ]
  },
  {
   "cell_type": "code",
   "execution_count": 12,
   "metadata": {},
   "outputs": [
    {
     "name": "stdout",
     "output_type": "stream",
     "text": [
      "2\n",
      "3\n",
      "3\n"
     ]
    }
   ],
   "source": [
    "numba1 = 1\n",
    "numba2 = 2\n",
    "numba3 = 3\n",
    "numba1 = numba2\n",
    "numba2 = numba3\n",
    "print(numba1)\n",
    "print(numba2)\n",
    "print(numba3)"
   ]
  },
  {
   "cell_type": "code",
   "execution_count": 17,
   "metadata": {},
   "outputs": [
    {
     "name": "stdout",
     "output_type": "stream",
     "text": [
      "Tinga\n",
      "Binga\n",
      "Winga\n",
      "Linga\n",
      "Chinga\n",
      "['Tinga', 'Binga', 'Winga', 'Linga', 'Chinga']\n"
     ]
    }
   ],
   "source": [
    "tinga_list = [\"Tinga\", \"Binga\", \"Winga\", \"Linga\", \"Chinga\"]\n",
    "print(tinga_list[0])\n",
    "print(tinga_list[1])\n",
    "print(tinga_list[2])\n",
    "print(tinga_list[3])\n",
    "print(tinga_list[4])\n",
    "print(tinga_list)"
   ]
  },
  {
   "cell_type": "code",
   "execution_count": 22,
   "metadata": {},
   "outputs": [
    {
     "name": "stdout",
     "output_type": "stream",
     "text": [
      "[\"Tinga\", \"Binga\", \"Winga\", \"Linga\", \"Chinga\"]\n"
     ]
    }
   ],
   "source": [
    "import json\n",
    "names = [\"Tinga\", \"Binga\", \"Winga\", \"Linga\", \"Chinga\"]\n",
    "json.obj = json.dumps(names)\n",
    "print(json.obj)"
   ]
  },
  {
   "cell_type": "code",
   "execution_count": 23,
   "metadata": {},
   "outputs": [
    {
     "name": "stdout",
     "output_type": "stream",
     "text": [
      "15\n",
      "Pizza\n",
      "['Nandan', 'Arnav', 'Torin', 'Remy']\n",
      "True\n",
      "{'Nandan': 'TeamMate1', 'Arnav': 'TeamMate2', 'Torin': 'TeamMate3', 'Remy': 'TeamMate4'}\n"
     ]
    }
   ],
   "source": [
    "secretNumber = 15 # integer\n",
    "print(secretNumber)\n",
    "\n",
    "food = \"Pizza\" # string\n",
    "print(food)\n",
    "\n",
    "names = [\"Nandan\", \"Arnav\", \"Torin\", \"Remy\"] # list\n",
    "print(names)\n",
    "\n",
    "IamCool = True # boolean\n",
    "\n",
    "print(IamCool)\n",
    "\n",
    "##Bonus Problem:\n",
    "\n",
    "names_2 = {\n",
    "    \"Nandan\": \"TeamMate1\",\n",
    "    \"Arnav\": \"TeamMate2\",\n",
    "    \"Torin\": \"TeamMate3\",\n",
    "    \"Remy\": \"TeamMate4\",\n",
    "}\n",
    "\n",
    "print(names_2)\n",
    "\n"
   ]
  },
  {
   "cell_type": "code",
   "execution_count": 28,
   "metadata": {},
   "outputs": [],
   "source": [
    "questions = [\"What period do I have AP CSP?\", \"What was this lesson on?\", \"What type of variable is used for numbers?\"]\n",
    "answers = [\"5\", \"Data Abstraction\", \"Integer\"]\n",
    "\n",
    "score = 0\n",
    "question_index = 0\n",
    "\n",
    "while question_index < len(questions):\n",
    "    print(\"Question\", question_index + 1, \":\", questions[question_index])\n",
    "    user_answer = input(\"Enter your answer: \")\n",
    "  \n",
    "    if user_answer.lower() == answers[question_index].lower():\n",
    "        print(\"Correct!\")\n",
    "        score += 1\n",
    " \n",
    "    else:\n",
    "        print(\"Incorrect.\")\n",
    "    question_index += 1\n",
    "    \n",
    "print(\"Quiz complete! You scored\", score, \"out of\", len(questions))"
   ]
  }
 ],
 "metadata": {
  "kernelspec": {
   "display_name": "Python 3",
   "language": "python",
   "name": "python3"
  },
  "language_info": {
   "codemirror_mode": {
    "name": "ipython",
    "version": 3
   },
   "file_extension": ".py",
   "mimetype": "text/x-python",
   "name": "python",
   "nbconvert_exporter": "python",
   "pygments_lexer": "ipython3",
   "version": "3.10.12"
  },
  "orig_nbformat": 4
 },
 "nbformat": 4,
 "nbformat_minor": 2
}
