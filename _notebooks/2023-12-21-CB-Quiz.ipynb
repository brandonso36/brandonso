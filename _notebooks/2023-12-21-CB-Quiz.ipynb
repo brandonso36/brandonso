{
 "cells": [
  {
   "cell_type": "markdown",
   "metadata": {},
   "source": [
    "---\n",
    "comments: false\n",
    "layout: post\n",
    "title: CB Quiz Reflection\n",
    "description: \n",
    "type: tangibles\n",
    "courses: { compsci: {week: 16} }\n",
    "categories: [C4.1]\n",
    "---"
   ]
  },
  {
   "cell_type": "markdown",
   "metadata": {},
   "source": [
    "# Review \n",
    "\n",
    "**Missed Questions**\n",
    "\n",
    "4. In a certain computer program, two positive integers are added together, resulting in an overflow error. Which of the following best explains why the error occurs?\n",
    "\n",
    "Answer: The program can only use a fixed number of bits to represent integers; the computed sum is greater than the maximum representable value.\n",
    "\n",
    "This makes sense since computers can only represent a certain number of bits. If the sum is greater than the maximum representable value, then it will overflow.\n",
    "\n",
    "14. Which of the following can be used as step 3 so that the algorithm works as intended?\n",
    "\n",
    "Answer: Step 3: Display the remainder of number divided by 10 and store the integer quotient in number\n",
    "\n",
    "This makes sense since you need to store the number not the remainder.\n",
    "\n",
    "21. Which of the following observations is most consistent with the information in the circle graph?\n",
    "\n",
    "Answer: Over 75% of the files stored are 10 MB in size or less.\n",
    "\n",
    "I don't know how I got this one wrong\n",
    "\n",
    "65. Which of the following can be used to store the string \"jackalope\" in the string variable animal ?\n",
    "\n",
    "Select two answers.\n",
    "\n",
    "Answer: \n",
    "animal = Substring (\"antelope\", 5, 4)\n",
    "animal = Concat (\"a\", animal)\n",
    "animal = Concat (Substring (\"jackrabbit\", 1, 4), animal)\n",
    "\n",
    "animal = Substring (\"jackrabbit\", 1, 4)\n",
    "animal = Concat (animal, \"a\")\n",
    "animal = Concat (animal, Substring (\"antelope\", 5, 4))\n",
    "\n",
    "After looking at this again this makes sense and both of these answers would work."
   ]
  },
  {
   "cell_type": "markdown",
   "metadata": {},
   "source": [
    "# Plan\n",
    "\n",
    "I plan to review all of these questions and do practice problems in the same topics as the questions I missed. Most of the questions I missed were pretty routine and could've been solved if I was more focused during the test."
   ]
  },
  {
   "cell_type": "markdown",
   "metadata": {},
   "source": [
    "# Overview\n",
    "\n",
    "The quiz was for the most part not too difficult and I did well on it. I did miss a few questions but I understand why I missed them. I need to be more careful when reading the questions and answers and make sure to double check my answers before I submit them."
   ]
  }
 ],
 "metadata": {
  "language_info": {
   "name": "python"
  }
 },
 "nbformat": 4,
 "nbformat_minor": 2
}
