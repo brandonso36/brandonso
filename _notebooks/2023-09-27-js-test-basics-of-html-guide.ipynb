{
 "cells": [
  {
   "cell_type": "markdown",
   "metadata": {},
   "source": [
    "---\n",
    "layout: post\n",
    "title: Basics of HTML Guide\n",
    "description: An introduction to basic HTML, and resources to learn more.\n",
    "courses: { compsci: { week: 5 } }\n",
    "permalink: /basics/html\n",
    "categories: [C4.1]\n",
    "type: ccc\n",
    "comments: true\n",
    "hide: True\n",
    "---"
   ]
  },
  {
   "cell_type": "raw",
   "metadata": {
    "vscode": {
     "languageId": "html"
    }
   },
   "source": [
    "{% include nav_basics.html %}"
   ]
  },
  {
   "cell_type": "markdown",
   "metadata": {},
   "source": [
    "# HTML Hacks\n",
    "- Below is a wireframe for an HTML element you will create. A wireframe is a rough visual representation of HTML elements on a page and isn't necessarily to scale or have the exact styling that the final HTML will have. Using the syntax above, try to create an HTML snippet that corresponds to the below wireframe.\n",
    "- The \"a tags\" can contain any links that you want\n",
    "\n",
    "![wireframe for html hacks]({{ site.baseurl }}/images/wireframe.png)"
   ]
  },
  {
   "cell_type": "code",
   "execution_count": 6,
   "metadata": {
    "vscode": {
     "languageId": "html"
    }
   },
   "outputs": [
    {
     "data": {
      "text/html": [
       "\n",
       "<div>\n",
       "    <p style=\"color:Tomato;\">This is how you make text in a paragraph form</p>\n",
       "    <button style=\"color:Chartreuse;\" >Button to click</button>\n",
       "</div>\n",
       "<br>\n",
       "<br>\n",
       "<div>\n",
       "    <a style=\"color:DodgerBlue;\" href=\"https://brandonso36.github.io/brandonso/\">Link to my Github Blog</a>\n",
       "    <br>\n",
       "    <a style=\"color:DodgerBlue;\" href=\"https://nighthawkcoders.github.io/teacher/basics/html\">Where I learned this</a>\n",
       "    <p style=\"color:Tomato;\">This is the end of this html stuff</p>\n",
       "</div>\n"
      ],
      "text/plain": [
       "<IPython.core.display.HTML object>"
      ]
     },
     "metadata": {},
     "output_type": "display_data"
    }
   ],
   "source": [
    "%%html\n",
    "\n",
    "<div>\n",
    "    <p style=\"color:Tomato;\">This is how you make text in a paragraph form</p>\n",
    "    <button style=\"color:Chartreuse;\" >Button to click</button>\n",
    "</div>\n",
    "<br>\n",
    "<br>\n",
    "<div>\n",
    "    <a style=\"color:DodgerBlue;\" href=\"https://brandonso36.github.io/brandonso/\">Link to my Github Blog</a>\n",
    "    <br>\n",
    "    <a style=\"color:DodgerBlue;\" href=\"https://nighthawkcoders.github.io/teacher/basics/html\">Where I learned this</a>\n",
    "    <p style=\"color:Tomato;\">This is the end of this html stuff</p>\n",
    "</div>\n"
   ]
  }
 ],
 "metadata": {
  "kernelspec": {
   "display_name": "Python 3",
   "language": "python",
   "name": "python3"
  },
  "language_info": {
   "codemirror_mode": {
    "name": "ipython",
    "version": 3
   },
   "file_extension": ".py",
   "mimetype": "text/x-python",
   "name": "python",
   "nbconvert_exporter": "python",
   "pygments_lexer": "ipython3",
   "version": "3.10.12"
  },
  "orig_nbformat": 4
 },
 "nbformat": 4,
 "nbformat_minor": 2
}
