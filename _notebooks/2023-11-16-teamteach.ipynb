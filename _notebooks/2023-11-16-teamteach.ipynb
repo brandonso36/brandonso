{
 "cells": [
  {
   "cell_type": "markdown",
   "metadata": {},
   "source": [
    "---\n",
    "comments: True\n",
    "layout: post\n",
    "toc: True\n",
    "title: Crowdsourcing \n",
    "description: Team Teach on Crowdsourcing\n",
    "type: hacks\n",
    "courses: { \"compsci\": { \"week\": 16} }\n",
    "---"
   ]
  },
  {
   "cell_type": "markdown",
   "metadata": {},
   "source": [
    "### Crowdsourcing\n",
    "Crowdsourcing is the action of acquirring work and information from a large group of people via the internet. This information can be obtained from social media and other forms of media throughout the internet. Crowdsourcing allows companies to work with people throughout the world and aquire a variety of different skills. \n",
    "![crowdsourcing image](https://www.investopedia.com/thmb/-csD4ERbU65LWGDvuXuPvUV8cUY=/1500x0/filters:no_upscale():max_bytes(150000):strip_icc()/crowdsourcing.asp-final-7a1d5dcc4f3b45c38c0a5050354f66f4.png)\n",
    "\n",
    "# variations of crowdsourcing\n",
    "Idea Generation: Seeking ideas and suggestions from the crowd to solve a problem or improve a product.\n",
    "\n",
    "Microtasks: Breaking down a large task into smaller, manageable microtasks that can be distributed to a crowd.\n",
    "\n",
    "Funding: Crowdfunding platforms, where a crowd financially supports projects, products, or causes.\n",
    "\n",
    "ata Collection: Gathering and analyzing data through contributions from a large number of individuals.\n",
    "\n",
    "Open Innovation: Involving external contributors in the innovation process of a company.\n",
    "\n",
    "# benefits of crowdsourcing\n",
    "Crowdsourcing is cost efficent because it allows access to talented workers without the need for a traditional workforce. Also, projects and work can be completed in a lesser amount of time due to the many contributors. Finally, the diversity of contributors can lead to innovative ideas and solutions that may have not emerged in a traditional setting. \n",
    "\n",
    "# Example of crowdsourcing\n",
    " A well-known example of crowdsourcing is the website Wikipedia. Wikipedia is an online encyclopedia where anybody can contribute and add information onto the site. \n",
    "\n",
    "# drawbacks of crowdsourcing\n",
    "There might be complications when crowdsourcing such as difficulties in confidentiality and communication between the groups involved. There is also a slight chance of receiving low quality work if a collaborater misunderstands the project's requirements.\n",
    "## Popcorn Hack  \n",
    "How can organizations optimize crowdsoucing while minimizing the drawbacks?\n",
    "\n",
    "Organizations optimize crowdsourcing by defining clear objectives, selecting suitable platforms, fostering community, providing guidelines, and offering incentives to minimize drawbacks and enhance effectiveness."
   ]
  },
  {
   "cell_type": "markdown",
   "metadata": {},
   "source": [
    "## Citizen Science  \n",
    "- Citizen Science is scientific research that the general population helps to conduct. Ordinary citizens, often non-scientists, help contribute data to research projects using computing devices.\n",
    "- Gives a wide range of people the ability to contribute to scientific studies which provides more diverse data.\n",
    "### Popcorn Hack  \n",
    "How do you believe participating in a citizen science project could enhance both scientific research and public engagement, and can you share any specific areas of scientific study where citizen science might make a significant impact in the future?\n",
    "\n",
    "\n",
    "Participating in citizen science projects enhances scientific research by leveraging public involvement, providing vast data sets, and promoting public engagement; potential impactful areas include biodiversity monitoring, climate change tracking, and health research."
   ]
  },
  {
   "cell_type": "markdown",
   "metadata": {},
   "source": [
    "# Homework\n",
    "## Question 1  \n",
    "Explain the concept of crowdsourcing. Provide examples of how it is commonly used in different fields.\n",
    "\n",
    "Crowdsourcing is the practice of sourcing contributions or services from a large and diverse group, often via online platforms. In fields like science, examples include Galaxy Zoo, where volunteers classify galaxies, and in business, Kickstarter allows creators to fund projects through collective contributions.\n",
    "\n",
    "## Question 2  \n",
    "Discuss the benefits and challenges associated with crowdsourcing. How can organizations effectively harness the power of crowdsourcing while mitigating potential drawbacks?\n",
    "\n",
    "Benefits of crowdsourcing encompass access to diverse skills, accelerated innovation, and cost efficiency. Challenges involve ensuring quality, navigating intellectual property concerns, and addressing potential biases. To effectively leverage crowdsourcing, organizations must set clear goals, provide comprehensive guidelines, cultivate a sense of community, and implement robust quality control measures.\n",
    "\n",
    "## Question 3  \n",
    "Identify a real-world example of a successful crowdsourcing project. Explain the project, its goals, and the positive outcomes achieved through the collaboration of a large group of people.\n",
    "\n",
    "A real-world example is the \"Foldit\" project, where online gamers collaborated to predict protein structures. The project aimed to advance biochemistry understanding by leveraging the collective problem-solving skills of gamers. The positive outcome was the discovery of novel protein-folding solutions that eluded automated methods.\n",
    "\n",
    "\n",
    "### Question 4\n",
    "Create a hypothetical scenario where crowdsourcing could be applied to solve a specific problem. Describe the problem, the type of contributions you would seek from the crowd, and the potential impact of implementing the crowdsourced solution.\n",
    "\n",
    "In a hypothetical urban planning scenario, crowdsourcing could address sustainability challenges. The problem involves developing eco-friendly city plans. Contributions from the crowd may include innovative green infrastructure ideas, leading to a collective solution that positively impacts future urban landscapes, fostering environmental sustainability."
   ]
  }
 ],
 "metadata": {
  "language_info": {
   "name": "python"
  }
 },
 "nbformat": 4,
 "nbformat_minor": 2
}
