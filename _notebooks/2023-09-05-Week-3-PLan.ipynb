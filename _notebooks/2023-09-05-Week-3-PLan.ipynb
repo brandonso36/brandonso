{
 "cells": [
  {
   "cell_type": "markdown",
   "metadata": {},
   "source": [
    "---\n",
    "comments: false\n",
    "layout: post\n",
    "title: Week 3 Plan\n",
    "description: This is an overview of what I hope to accomplish throughout week 3\n",
    "type: plans\n",
    "courses: { compsci: {week: 3} }\n",
    "categories: [C4.1]\n",
    "---"
   ]
  },
  {
   "cell_type": "markdown",
   "metadata": {},
   "source": [
    "# Weekly Plan\n",
    "\n",
    "**Monday:** \n",
    "\n",
    "**Tuesday:** \n",
    "\n",
    "**Wednesday:** \n",
    "\n",
    "**Thurday:** \n",
    "\n",
    "**Friday:** "
   ]
  }
 ],
 "metadata": {
  "language_info": {
   "name": "python"
  },
  "orig_nbformat": 4
 },
 "nbformat": 4,
 "nbformat_minor": 2
}
