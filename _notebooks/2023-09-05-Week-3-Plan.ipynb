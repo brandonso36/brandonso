{
 "cells": [
  {
   "cell_type": "markdown",
   "metadata": {},
   "source": [
    "---\n",
    "comments: false\n",
    "layout: post\n",
    "title: Week 3 Plan\n",
    "description: This is an overview of what I hope to accomplish throughout week 3\n",
    "type: plans\n",
    "courses: { compsci: {week: 3} }\n",
    "categories: [C4.1]\n",
    "---"
   ]
  },
  {
   "cell_type": "markdown",
   "metadata": {},
   "source": [
    "# Weekly Plan\n",
    "\n",
    "**Monday:** Read the js input and js output and try and implement some variation of that into my blog\n",
    "\n",
    "**Tuesday:** Figure out how to add a basic calculator to my blog\n",
    "\n",
    "**Wednesday:** Continue figuring out how to add the calculator to my blog\n",
    "\n",
    "**Thurday:** Review our plan for the pair showcase and practice presentation\n",
    "\n",
    "**Friday:** Pair Showcase and minor edits "
   ]
  }
 ],
 "metadata": {
  "language_info": {
   "name": "python"
  },
  "orig_nbformat": 4
 },
 "nbformat": 4,
 "nbformat_minor": 2
}
