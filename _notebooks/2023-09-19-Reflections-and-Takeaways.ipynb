{
 "cells": [
  {
   "cell_type": "code",
   "execution_count": null,
   "metadata": {},
   "outputs": [],
   "source": [
    "Takeaways:\n",
    "-Agile, scrumboards, and github are all important for many different paths for CS\n",
    "-More applications give you better chances since many colleges are a lottery for CS\n",
    "-Any extracurricular related to coding is good namely teaching (demonstrates understanding)\n",
    "-Spend time building projects, having something tangible helps employers see your understanding\n",
    "-Find something you're passionate about that motivates you\n",
    "-Leet Code is a good resource for practicing and getting internships\n",
    "-Cheat Codes: Vercel (deployment tool), Sveltkit, TailwindCSS\n",
    "-Use these to create a personal website\n",
    "\n",
    "Reflection:\n",
    "Taking the computer science courses at Del Norte prepares you for many college and professional experiences. Colleges may have a lottery system for computer science majors, so submitting a lot of applications improves your chances. Having (coding) extracurriculars is good especially those related to teaching since in order to teach you need to have an understanding on a deeper level. Building projects is very important to demonstrate your skills rather than just stating your proficiency. Computer science has many facets and is a very difficult major, but with enough extracurricular and in-school work gaining experience becomes much easier."
   ]
  }
 ],
 "metadata": {
  "language_info": {
   "name": "python"
  },
  "orig_nbformat": 4
 },
 "nbformat": 4,
 "nbformat_minor": 2
}
