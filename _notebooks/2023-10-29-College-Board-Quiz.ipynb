{
 "cells": [
  {
   "cell_type": "markdown",
   "metadata": {},
   "source": [
    "---\n",
    "comments: false\n",
    "layout: post\n",
    "title: College Board Quiz Plan\n",
    "description: My plan on how I will complete the quiz and take notes\n",
    "type: hacks\n",
    "courses: { compsci: {week: 11} }\n",
    "categories: [C4.1]\n",
    "---"
   ]
  },
  {
   "cell_type": "markdown",
   "metadata": {},
   "source": [
    "# How I will Study\n",
    "\n",
    "I plan on taking the quiz first and noting the questions I am unsure on. I will review those questions and the ones I have missed and take notes on them. If the question seems to be common sense and a silly mistake I will skip it and move on. If it is more specific I will write it down and study it to be reviewed later.\n"
   ]
  },
  {
   "cell_type": "markdown",
   "metadata": {},
   "source": [
    "# Question Notes\n",
    "\n",
    "- Citizen science: Research conducted by the general public, typically through crowd sourcing \n",
    "\n",
    "    - Allows for greater data collection and gives community insight into research\n",
    "\n",
    "- Boolean variables are used for data with two outcomes (true or false)\n",
    "\n",
    "- Internet Engineering Taskforce: A standards organization for the Internet and is responsible for the technical standards that make up the Internet protocol suite.\n",
    "\n",
    "- Benefits of using an iterative and incremental process: It helps programmers identify errors as components are added to a working program."
   ]
  }
 ],
 "metadata": {
  "language_info": {
   "name": "python"
  }
 },
 "nbformat": 4,
 "nbformat_minor": 2
}
