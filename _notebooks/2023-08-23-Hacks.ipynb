{
 "cells": [
  {
   "cell_type": "markdown",
   "metadata": {},
   "source": [
    "---\n",
    "comments: false\n",
    "layout: post\n",
    "title: Hacks Week 0/1\n",
    "description: This is an overview of what I accomplished throughout the first week\n",
    "type: hacks\n",
    "courses: { csp: {week: 0} }\n",
    "categories: [C4.1]\n",
    "---"
   ]
  },
  {
   "cell_type": "markdown",
   "metadata": {},
   "source": [
    "# Hacks Week 0/1"
   ]
  },
  {
   "cell_type": "markdown",
   "metadata": {},
   "source": [
    "**Common Commands**\n",
    "\n",
    "cd- changes the directory\n",
    "\n",
    "ls- lists the files and directories within a directory\n",
    "\n",
    "make- starts the local server\n",
    "\n",
    "code- opens vscode from the terminal\n",
    "\n",
    "pwd- states the path name of your current directory\n",
    "\n",
    "\n",
    "\n",
    "\n"
   ]
  },
  {
   "cell_type": "markdown",
   "metadata": {},
   "source": [
    "**Issues and Fixes**\n",
    "\n",
    "-An issue I ran into was creating this page itself. I would try and type in the cells and overall just create the page but none of it seemed to work. The issue was very simple to fix as I just needed to switch the language from python to markdown which solved all my problems. \n",
    "\n",
    "-My bundle install command was not working. To solve this, I ran a sudo command to install ruby which solved the issue.\n",
    "\n",
    "-When I created my blog, there would be a very large comment section that blocked a lot of the content on the page. I fixed this by changing the comments setting to false which removed the comment box.\n"
   ]
  },
  {
   "cell_type": "markdown",
   "metadata": {},
   "source": [
    "**Agile Mindset**\n",
    "\n",
    "Throughout the week I experienced many frustrations while trying to get everything set up. However, I kept an agile mindset and worked through these problems in collaboration with others.\n",
    "\n",
    "\n",
    "<img src=\"https://github.com/nighthawkcoders/student/assets/77716047/5251870d-ecef-41f8-8591-b80dcd365908\" width=\"600px\">"
   ]
  },
  {
   "cell_type": "markdown",
   "metadata": {},
   "source": [
    "**Summary**\n",
    "\n",
    "Throughout the week I encountered many problems, but with an agile mindset and cooperation I was able to succeed. Working in the terminal and using all of the tools feels awesome and sparked within me a deep interest in coding."
   ]
  },
  {
   "cell_type": "markdown",
   "metadata": {},
   "source": [
    "**Snake Game**\n",
    "\n",
    "I thought a snake game would be an interesting addition to my blog so I added it."
   ]
  },
  {
   "cell_type": "code",
   "execution_count": 1,
   "metadata": {
    "tags": [
     "parameters"
    ]
   },
   "outputs": [
    {
     "name": "stdout",
     "output_type": "stream",
     "text": [
      "pygame 2.5.1 (SDL 2.28.2, Python 3.10.12)\n",
      "Hello from the pygame community. https://www.pygame.org/contribute.html\n"
     ]
    }
   ],
   "source": [
    "import pygame\n",
    "import random\n",
    "\n",
    "# define some colors\n",
    "BLACK = (0, 0, 0)\n",
    "WHITE = (255, 255, 255)\n",
    "RED = (255, 0, 0)\n",
    "GREEN = (0, 128, 0)\n",
    "\n",
    "pygame.init()\n",
    "\n",
    "# set the width and height of the screen [width, height]\n",
    "size = (400, 400)\n",
    "screen = pygame.display.set_mode(size)\n",
    "pygame.display.set_caption(\"Basic Snake Python Game\")\n",
    "clock = pygame.time.Clock()\n",
    "\n",
    "# allow us to close the game\n",
    "done = False\n",
    "\n",
    "count = 0\n",
    "grid = 16\n",
    "\n",
    "class Snake:\n",
    "  x = 160\n",
    "  y = 160\n",
    "\n",
    "  # snake velocity. moves one grid length every frame in either the x or y direction\n",
    "  dx = grid\n",
    "  dy = 0\n",
    "\n",
    "  # keep track of all grids the snake body occupies\n",
    "  cells = []\n",
    "\n",
    "  # length of the snake. grows when eating an apple\n",
    "  maxCells = 4\n",
    "\n",
    "class Apple:\n",
    "  x = 320\n",
    "  y = 320\n",
    "\n",
    "snake = Snake()\n",
    "apple = Apple()\n",
    "\n",
    "# game loop\n",
    "while not done:\n",
    "  # event loop\n",
    "  for event in pygame.event.get():\n",
    "    # listen to keyboard events to move the snake\n",
    "    if event.type == pygame.KEYDOWN:\n",
    "      # prevent snake from backtracking on itself by checking that it's\n",
    "      # not already moving on the same axis (pressing left while moving\n",
    "      # left won't do anything, and pressing right while moving left\n",
    "      # shouldn't let you collide with your own body) \n",
    "\n",
    "      if event.key == pygame.K_LEFT and snake.dx == 0:\n",
    "        snake.dx = -grid;\n",
    "        snake.dy = 0;\n",
    "      if event.key == pygame.K_UP and snake.dy == 0:\n",
    "        snake.dy = -grid;\n",
    "        snake.dx = 0;\n",
    "      if event.key == pygame.K_RIGHT and snake.dx == 0:\n",
    "        snake.dx = grid;\n",
    "        snake.dy = 0;\n",
    "      if event.key == pygame.K_DOWN and snake.dy == 0:\n",
    "        snake.dy = grid;\n",
    "        snake.dx = 0;\n",
    "\n",
    "    # close when the X is clicked\n",
    "    if event.type == pygame.QUIT:\n",
    "      done = True\n",
    "\n",
    "  # slow game updates to 15 per second instead of 60 (60/15 = 4)\n",
    "  count += 1\n",
    "  if count >= 4:\n",
    "    # move snake by it's velocity\n",
    "    snake.x += snake.dx;\n",
    "    snake.y += snake.dy;\n",
    "\n",
    "    # wrap snake position horizontally on edge of screen\n",
    "    if snake.x < 0:\n",
    "      snake.x = screen.get_width() - grid;\n",
    "    elif snake.x >= screen.get_width():\n",
    "      snake.x = 0;\n",
    "\n",
    "    # wrap snake position vertically on edge of screen\n",
    "    if snake.y < 0:\n",
    "      snake.y = screen.get_height() - grid\n",
    "    elif snake.y >= screen.get_height():\n",
    "      snake.y = 0\n",
    "\n",
    "    # keep track of where snake has been. front of the array is always the head\n",
    "    snake.cells.append([snake.x, snake.y]);\n",
    "\n",
    "    # remove cells as we move away from them\n",
    "    if len(snake.cells) > snake.maxCells:\n",
    "      snake.cells.pop(0)\n",
    "    \n",
    "    count = 0;\n",
    "\n",
    "    screen.fill(BLACK)\n",
    "  \n",
    "    # draw apple\n",
    "    pygame.draw.rect(screen, RED, pygame.Rect(apple.x, apple.y, grid - 1, grid - 1))\n",
    "\n",
    "    # draw snake one cell at a time\n",
    "    index = 0\n",
    "    for cell in snake.cells:\n",
    "      # drawing 1 px smaller than the grid creates a grid effect in the snake body so you can see how long it is\n",
    "      pygame.draw.rect(screen, GREEN, pygame.Rect(cell[0], cell[1], grid - 1, grid - 1))\n",
    "\n",
    "      # snake ate apple\n",
    "      if cell[0] == apple.x and cell[1] == apple.y:\n",
    "        snake.maxCells += 1\n",
    "\n",
    "        # canvas is 400x400 which is 25x25 grids\n",
    "        apple.x = random.randint(0, 24) * grid\n",
    "        apple.y = random.randint(0, 24) * grid\n",
    "      \n",
    "      # check collision with all cells after this one (modified bubble sort)\n",
    "      for i in range(index + 1, len(snake.cells)):\n",
    "        # snake occupies same space as a body part. reset game\n",
    "        if cell[0] == snake.cells[i][0] and cell[1] == snake.cells[i][1]:\n",
    "          snake.x = 160\n",
    "          snake.y = 160\n",
    "          snake.cells = []\n",
    "          snake.maxCells = 4\n",
    "          snake.dx = grid\n",
    "          snake.dy = 0\n",
    "\n",
    "          apple.x = random.randint(0, 24) * grid\n",
    "          apple.y = random.randint(0, 24) * grid\n",
    "      \n",
    "      index += 1\n",
    "\n",
    "    # update the screen with what we've drawn.\n",
    "    pygame.display.flip()\n",
    "\n",
    "  # limit to 60 frames per second\n",
    "  clock.tick(60)\n",
    "\n",
    "# close the window and quit.\n",
    "pygame.quit()"
   ]
  }
 ],
 "metadata": {
  "kernelspec": {
   "display_name": "Python 3",
   "language": "python",
   "name": "python3"
  },
  "language_info": {
   "codemirror_mode": {
    "name": "ipython",
    "version": 3
   },
   "file_extension": ".py",
   "mimetype": "text/x-python",
   "name": "python",
   "nbconvert_exporter": "python",
   "pygments_lexer": "ipython3",
   "version": "3.10.12"
  },
  "orig_nbformat": 4
 },
 "nbformat": 4,
 "nbformat_minor": 2
}
