{
 "cells": [
  {
   "cell_type": "markdown",
   "metadata": {},
   "source": [
    "---\n",
    "comments: false\n",
    "layout: post\n",
    "title: Week 13 Overview\n",
    "description: This is an overview of what I accomplished throughout week 13\n",
    "type: tangibles\n",
    "courses: { compsci: {week: 13} }\n",
    "categories: [C4.1]\n",
    "---"
   ]
  },
  {
   "cell_type": "markdown",
   "metadata": {},
   "source": [
    "# Accomplishments\n",
    "\n",
    "- Formed a great group \n",
    "\n",
    "- Made our shared repository for the binary project\n",
    "\n",
    "- Brainstormed ideas for the binary project\n",
    "\n",
    "- Worked on binary project features and got them working"
   ]
  }
 ],
 "metadata": {
  "language_info": {
   "name": "python"
  }
 },
 "nbformat": 4,
 "nbformat_minor": 2
}
