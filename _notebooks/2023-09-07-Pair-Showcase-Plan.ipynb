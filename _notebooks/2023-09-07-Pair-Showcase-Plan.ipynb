{
 "cells": [
  {
   "cell_type": "markdown",
   "metadata": {},
   "source": [
    "---\n",
    "comments: false\n",
    "layout: post\n",
    "title: Pair Showcase Plan\n",
    "description: Overview of our pair showcase \n",
    "type: plans\n",
    "courses: { compsci: {week: 3} }\n",
    "categories: [C4.1]\n",
    "---"
   ]
  },
  {
   "cell_type": "markdown",
   "metadata": {},
   "source": [
    "# Presentation Plan\n",
    "\n",
    "- Open vscode and our blogs through the terminal with Linux\n",
    "\n",
    "- Go over some bash script commands\n",
    "\n",
    "- Go over javascript projects and explain them (Ninaad)\n",
    "\n",
    "- Demonstrate my quiz and breakdown the python\n",
    "\n",
    "- Show that our github is up to date with the local\n",
    "\n",
    "- Just have a neat and organized time box "
   ]
  }
 ],
 "metadata": {
  "language_info": {
   "name": "python"
  },
  "orig_nbformat": 4
 },
 "nbformat": 4,
 "nbformat_minor": 2
}
